{
 "cells": [
  {
   "cell_type": "code",
   "execution_count": 1,
   "metadata": {},
   "outputs": [],
   "source": [
    "import numpy as np\n",
    "\n",
    "class pilha:\n",
    "    def __init__(self, capacidade):\n",
    "        self.__capacidade = capacidade\n",
    "        self.__topo = -1\n",
    "        self.__valores = np.empty(self.__capacidade, dtype=str)\n",
    "\n",
    "    def __pilha_cheia(self):\n",
    "        if self.__topo == self.__capacidade - 1:\n",
    "            return True\n",
    "        else:\n",
    "            return False\n",
    "\n",
    "    def __pilha_vazia(self):\n",
    "        if self.__topo == -1:\n",
    "            return True\n",
    "        else:\n",
    "            return False\n",
    "\n",
    "    def empilhar(self, valor):\n",
    "        if self.__pilha_cheia():\n",
    "            print('A pilha está cheia')\n",
    "        else:\n",
    "            self.__topo += 1\n",
    "            self.__valores[self.__topo] = valor\n",
    "\n",
    "    def desempilhar(self):\n",
    "        if self.__pilha_vazia():\n",
    "            print('A pilha está vazia')\n",
    "        else:\n",
    "            self.__topo -= 1\n",
    "\n",
    "    def ver_topo(self):\n",
    "        if self.__topo != -1:\n",
    "            return self.__valores[self.__topo]\n",
    "        else:\n",
    "            return -1\n",
    "        \n",
    "    def verTudo(self):\n",
    "        return self.__valores\n",
    "                \n"
   ]
  },
  {
   "cell_type": "code",
   "execution_count": 3,
   "metadata": {},
   "outputs": [
    {
     "data": {
      "text/plain": [
       "-1"
      ]
     },
     "execution_count": 3,
     "metadata": {},
     "output_type": "execute_result"
    }
   ],
   "source": [
    "import re\n",
    "\n",
    "expressao = str(input('Digite sua expressão'))\n",
    "expressaoEmVetor = []\n",
    "\n",
    "\n",
    "\n",
    "\n",
    "pilha_expressao = pilha(len(re.findall('[A-Za-z]',expressao)))\n",
    "pilha_fechamento = pilha(10)\n",
    "\n",
    "for x in expressao:\n",
    "    expressaoEmVetor.append(x)\n",
    "\n",
    "for y in range(len(expressaoEmVetor)):\n",
    "      \n",
    "    if expressaoEmVetor[y] == '{':\n",
    "        pilha_fechamento.empilhar('}')\n",
    "        pilha_expressao.empilhar(expressaoEmVetor[y+1])\n",
    "\n",
    "    if expressaoEmVetor[y] == '(':\n",
    "        pilha_fechamento.empilhar(')')\n",
    "        pilha_expressao.empilhar(expressaoEmVetor[y+1])\n",
    "  \n",
    "    if expressaoEmVetor[y] == '[':\n",
    "        pilha_fechamento.empilhar(']')\n",
    "        pilha_expressao.empilhar(expressaoEmVetor[y+1])\n",
    "\n",
    "    if expressaoEmVetor[y] == pilha_fechamento.ver_topo():\n",
    "        pilha_expressao.desempilhar()\n",
    "    \n",
    "\n",
    "pilha_expressao.ver_topo()\n",
    "\n",
    "        "
   ]
  },
  {
   "cell_type": "code",
   "execution_count": 2,
   "metadata": {},
   "outputs": [
    {
     "ename": "NameError",
     "evalue": "name 'pilha_expressao' is not defined",
     "output_type": "error",
     "traceback": [
      "\u001b[0;31m---------------------------------------------------------------------------\u001b[0m",
      "\u001b[0;31mNameError\u001b[0m                                 Traceback (most recent call last)",
      "Cell \u001b[0;32mIn[2], line 1\u001b[0m\n\u001b[0;32m----> 1\u001b[0m pilha_expressao\u001b[39m.\u001b[39mverTudo()\n",
      "\u001b[0;31mNameError\u001b[0m: name 'pilha_expressao' is not defined"
     ]
    }
   ],
   "source": [
    "pilha_expressao.verTudo()"
   ]
  }
 ],
 "metadata": {
  "kernelspec": {
   "display_name": "Python 3",
   "language": "python",
   "name": "python3"
  },
  "language_info": {
   "codemirror_mode": {
    "name": "ipython",
    "version": 3
   },
   "file_extension": ".py",
   "mimetype": "text/x-python",
   "name": "python",
   "nbconvert_exporter": "python",
   "pygments_lexer": "ipython3",
   "version": "3.10.13"
  }
 },
 "nbformat": 4,
 "nbformat_minor": 2
}
