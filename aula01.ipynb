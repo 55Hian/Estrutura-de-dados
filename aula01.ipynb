{
 "cells": [
  {
   "cell_type": "markdown",
   "metadata": {},
   "source": [
    "## Arrays & Estrutura ligada"
   ]
  },
  {
   "cell_type": "markdown",
   "metadata": {},
   "source": [
    "Array é uma sequência de itens manipulaveis\n",
    "\n",
    "Ponteiro <-- endereço de memoria\n",
    "\n"
   ]
  },
  {
   "cell_type": "code",
   "execution_count": 61,
   "metadata": {},
   "outputs": [
    {
     "name": "stdout",
     "output_type": "stream",
     "text": [
      "[['teste', 'teste', 'teste'], ['teste', 'teste', 'teste'], ['teste', 'teste', 'teste'], ['teste', 'teste', 'teste'], ['teste', 'teste', 'teste'], ['teste', 'teste', 'teste'], ['teste', 'teste', 'teste']]\n"
     ]
    }
   ],
   "source": [
    "class Array(object):\n",
    "    def __init__(self, capacityx, capacityy, fillValue = \"teste\"):\n",
    "        self.item = list()\n",
    "        self.itemy = list()\n",
    "        for countx in range(capacityx):\n",
    "            self.item1 = list()\n",
    "            self.item.append(self.item1)\n",
    "            for county in range(capacityy):\n",
    "                self.item1.append(fillValue)\n",
    "                \n",
    "    def __consultaValor__(self):\n",
    "        return print(self.item)\n",
    "\n",
    "array1 = Array(7, 3)\n",
    "array1.__consultaValor__()"
   ]
  },
  {
   "cell_type": "markdown",
   "metadata": {},
   "source": []
  }
 ],
 "metadata": {
  "kernelspec": {
   "display_name": "Python 3",
   "language": "python",
   "name": "python3"
  },
  "language_info": {
   "codemirror_mode": {
    "name": "ipython",
    "version": 3
   },
   "file_extension": ".py",
   "mimetype": "text/x-python",
   "name": "python",
   "nbconvert_exporter": "python",
   "pygments_lexer": "ipython3",
   "version": "3.10.13"
  }
 },
 "nbformat": 4,
 "nbformat_minor": 2
}
