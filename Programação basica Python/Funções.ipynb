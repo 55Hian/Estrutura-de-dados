{
  "cells": [
    {
      "cell_type": "markdown",
      "metadata": {
        "colab_type": "text",
        "id": "view-in-github"
      },
      "source": [
        "<a href=\"https://colab.research.google.com/github/55Hian/Estrutura-de-dados/blob/main/Fun%C3%A7%C3%B5es.ipynb\" target=\"_parent\"><img src=\"https://colab.research.google.com/assets/colab-badge.svg\" alt=\"Open In Colab\"/></a>"
      ]
    },
    {
      "cell_type": "markdown",
      "metadata": {
        "id": "IEcrEbE3Ff-i"
      },
      "source": [
        "# Funções\n",
        "\n",
        "- Trechos de programa que recebem um determinado nome e podem ser chamados várias vezes durante a execução\n",
        "- Principais vantagens: reutilização de código, modularidade e facilidade de manutenção do sistema"
      ]
    },
    {
      "cell_type": "markdown",
      "metadata": {
        "id": "hVl4JmCBFh35"
      },
      "source": [
        "## Função sem parâmetro e sem retorno\n",
        "\n"
      ]
    },
    {
      "cell_type": "code",
      "execution_count": null,
      "metadata": {
        "id": "tDHyzEN6Y-E1"
      },
      "outputs": [],
      "source": [
        "def mensagem():\n",
        "  print('Texto da função')"
      ]
    },
    {
      "cell_type": "code",
      "execution_count": null,
      "metadata": {
        "colab": {
          "base_uri": "https://localhost:8080/",
          "height": 67
        },
        "id": "r-_JEbYrZHFR",
        "outputId": "decb5710-4510-4bc0-e81e-6973722f0c10"
      },
      "outputs": [
        {
          "name": "stdout",
          "output_type": "stream",
          "text": [
            "Texto da função\n",
            "Texto da função\n",
            "Texto da função\n"
          ]
        }
      ],
      "source": [
        "mensagem()\n",
        "mensagem()\n",
        "mensagem()"
      ]
    },
    {
      "cell_type": "markdown",
      "metadata": {
        "id": "acu6pXhQHffb"
      },
      "source": [
        "## Função com passagem de parâmetro"
      ]
    },
    {
      "cell_type": "code",
      "execution_count": null,
      "metadata": {
        "id": "wCegzOSuZWNY"
      },
      "outputs": [],
      "source": [
        "def mensagem(texto):\n",
        "  print(texto)"
      ]
    },
    {
      "cell_type": "code",
      "execution_count": null,
      "metadata": {
        "colab": {
          "base_uri": "https://localhost:8080/",
          "height": 67
        },
        "id": "5Mu-2bGUZdIZ",
        "outputId": "78a92c46-9d39-4a60-87f1-f37da1bd9316"
      },
      "outputs": [
        {
          "name": "stdout",
          "output_type": "stream",
          "text": [
            "texto 1\n",
            "texto 2\n",
            "texto 3\n"
          ]
        }
      ],
      "source": [
        "mensagem('texto 1')\n",
        "mensagem('texto 2')\n",
        "mensagem('texto 3')"
      ]
    },
    {
      "cell_type": "code",
      "execution_count": null,
      "metadata": {
        "id": "Qlf-zQJCZyZR"
      },
      "outputs": [],
      "source": [
        "def soma(a, b):\n",
        "  print(a + b)"
      ]
    },
    {
      "cell_type": "code",
      "execution_count": null,
      "metadata": {
        "colab": {
          "base_uri": "https://localhost:8080/",
          "height": 34
        },
        "id": "ykaR-XQQZ2uf",
        "outputId": "99452147-adfe-432b-9cc1-c69f70f75d19"
      },
      "outputs": [
        {
          "name": "stdout",
          "output_type": "stream",
          "text": [
            "5\n"
          ]
        }
      ],
      "source": [
        "soma(2, 3)"
      ]
    },
    {
      "cell_type": "code",
      "execution_count": null,
      "metadata": {
        "colab": {
          "base_uri": "https://localhost:8080/",
          "height": 50
        },
        "id": "el9_XnkxZ7PT",
        "outputId": "020bf038-de45-4d1a-a27f-4d5bdefbf549"
      },
      "outputs": [
        {
          "name": "stdout",
          "output_type": "stream",
          "text": [
            "6\n",
            "3\n"
          ]
        }
      ],
      "source": [
        "soma(3, 3)\n",
        "soma(1, 2)"
      ]
    },
    {
      "cell_type": "markdown",
      "metadata": {
        "id": "A_OYX7XBIBCU"
      },
      "source": [
        "## Função com passagem de parâmetros e retorno"
      ]
    },
    {
      "cell_type": "code",
      "execution_count": null,
      "metadata": {
        "id": "SkkVQpIHaE14"
      },
      "outputs": [],
      "source": [
        "def soma(a, b):\n",
        "  return a + b"
      ]
    },
    {
      "cell_type": "code",
      "execution_count": null,
      "metadata": {
        "colab": {
          "base_uri": "https://localhost:8080/",
          "height": 34
        },
        "id": "V8f3NdypaMzA",
        "outputId": "d2ef74b7-84a0-4b7a-f98f-8ca7f60e0981"
      },
      "outputs": [
        {
          "data": {
            "text/plain": [
              "5"
            ]
          },
          "execution_count": 14,
          "metadata": {
            "tags": []
          },
          "output_type": "execute_result"
        }
      ],
      "source": [
        "soma(3, 2)"
      ]
    },
    {
      "cell_type": "code",
      "execution_count": null,
      "metadata": {
        "colab": {
          "base_uri": "https://localhost:8080/",
          "height": 34
        },
        "id": "AhQErC_faRQl",
        "outputId": "2f428ede-f980-428a-ac93-3684673d05c1"
      },
      "outputs": [
        {
          "name": "stdout",
          "output_type": "stream",
          "text": [
            "5\n"
          ]
        }
      ],
      "source": [
        "# r = 7\n",
        "r = soma(3, 2)\n",
        "print(r)"
      ]
    },
    {
      "cell_type": "code",
      "execution_count": null,
      "metadata": {
        "id": "wRhqE2ubamj2"
      },
      "outputs": [],
      "source": [
        "def calcula_energia_potencial_gravitacional(m, h, g = 10):\n",
        "  '''\n",
        "  Calcula a energia potencial gravitacional\n",
        "  Argumentos:\n",
        "  m: massa, entrada como uma variável float\n",
        "  h: altura, entrada como uma variável float\n",
        "\n",
        "  Argumento opcional:\n",
        "  g: aceleração gravitacional, com valor default de 10\n",
        "  '''\n",
        "  e = g * m * h\n",
        "  return e"
      ]
    },
    {
      "cell_type": "code",
      "execution_count": null,
      "metadata": {
        "colab": {
          "base_uri": "https://localhost:8080/",
          "height": 34
        },
        "id": "QecHSc8aa2ai",
        "outputId": "52dafd66-4251-41eb-e6da-ed188c0a17e9"
      },
      "outputs": [
        {
          "data": {
            "text/plain": [
              "3600"
            ]
          },
          "execution_count": 17,
          "metadata": {
            "tags": []
          },
          "output_type": "execute_result"
        }
      ],
      "source": [
        "calcula_energia_potencial_gravitacional(30, 12)"
      ]
    },
    {
      "cell_type": "code",
      "execution_count": null,
      "metadata": {
        "colab": {
          "base_uri": "https://localhost:8080/",
          "height": 34
        },
        "id": "5ZnVlGc1a6kR",
        "outputId": "e384fabb-64ae-4e8c-e566-de450d741fad"
      },
      "outputs": [
        {
          "data": {
            "text/plain": [
              "3528.0"
            ]
          },
          "execution_count": 18,
          "metadata": {
            "tags": []
          },
          "output_type": "execute_result"
        }
      ],
      "source": [
        "calcula_energia_potencial_gravitacional(30, 12, 9.8)"
      ]
    },
    {
      "cell_type": "code",
      "execution_count": null,
      "metadata": {
        "colab": {
          "base_uri": "https://localhost:8080/",
          "height": 202
        },
        "id": "4w78UhKKbJ18",
        "outputId": "d634675f-bea1-46ac-ccf7-3d666660bcc1"
      },
      "outputs": [
        {
          "name": "stdout",
          "output_type": "stream",
          "text": [
            "Help on function calcula_energia_potencial_gravitacional in module __main__:\n",
            "\n",
            "calcula_energia_potencial_gravitacional(m, h, g=10)\n",
            "    Calcula a energia potencial gravitacional\n",
            "    Argumentos:\n",
            "    m: massa, entrada como uma variável float\n",
            "    h: altura, entrada como uma variável float\n",
            "    \n",
            "    Argumento opcional:\n",
            "    g: aceleração gravitacional, com valor default de 10\n",
            "\n"
          ]
        }
      ],
      "source": [
        "help(calcula_energia_potencial_gravitacional)"
      ]
    },
    {
      "cell_type": "markdown",
      "metadata": {},
      "source": [
        "Ler uma temperatura em graus Celsius e apresentá-la convertida em graus Fahrenheit. A fórmula de conversão é F = (9 * C + 160) / 5, na qual F é a temperatura em Fahrenheit e C é a temperatura em graus Celsius\n",
        "- Função para ler e retorna o valor da temperatura (não recebe parâmetro)\n",
        "- Função para fazer o cálculo (recebe como parâmetro a temperatura em graus Celsius)\n",
        "- Função para mostrar o resultado, recebendo como parâmetro o valor e fazendo a impressão"
      ]
    },
    {
      "cell_type": "code",
      "execution_count": 8,
      "metadata": {},
      "outputs": [
        {
          "name": "stdout",
          "output_type": "stream",
          "text": [
            "A temperatura em Fahrenheit é 68.0\n"
          ]
        }
      ],
      "source": [
        "def coletaTemperatura():\n",
        "    temperaturaC = float(input('Digite a temperatura em celcius'))\n",
        "    return temperaturaC\n",
        "\n",
        "def converteTemperatura(tempC):\n",
        "    temperaturaF = (((9 * tempC) + 160) / 5)\n",
        "    return temperaturaF\n",
        "\n",
        "def mostraResultado(tempF):\n",
        "    print(f'A temperatura em Fahrenheit é {tempF}')\n",
        "\n",
        "\n",
        "temperatura = coletaTemperatura()\n",
        "\n",
        "temperaturaConvertida = converteTemperatura(temperatura)\n",
        "\n",
        "mostraResultado(temperaturaConvertida)"
      ]
    },
    {
      "cell_type": "markdown",
      "metadata": {},
      "source": [
        "Efetuar o cálculo da quantidade de litros de combustível gasto em uma viagem, utilizando um automóvel que faz 12 Km por litro. Para obter o cálculo, o usuário deve fornecer o tempo gasto na viagem e a velocidade média durante ela. Desta forma, será possível obter a distância percorrida com a fórmula DISTANCIA = TEMPO * VELOCIDADE. Tendo o valor da distância, basta calcular a quantidade de litros de combustível utilizada na viagem, com a fórmula: LITROS_USADOS = DISTANCIA / 12. O programa deve apresentar os valores da velocidade média, tempo gasto na viagem, a distância percorrida e a quantidade de litros utilizada na viagem\n",
        "- Função para ler os valores (não recebe parâmetro e retorna os dois valores)\n",
        "- Função para calcular a distância (recebe como parâmetro o tempo e a velocidade e retorna a distância)\n",
        "- Função para calcular a quantidade de litros (recebe como parâmetro a distância e retorna os litros)\n",
        "- Função para apresentar o resultado (recebe como parâmetro os valores e somente imprime o resultado)"
      ]
    },
    {
      "cell_type": "code",
      "execution_count": 9,
      "metadata": {},
      "outputs": [
        {
          "name": "stdout",
          "output_type": "stream",
          "text": [
            "A velocidade média na viagem foi de 20.0\n",
            "O tempo no trajeto foi de 3600.0\n",
            "A distancia percorrida no trajeto foi de 72000.0\n",
            "O consumo de combustivel na viagem foi 6.0\n"
          ]
        }
      ],
      "source": [
        "def parametrosIniciais():\n",
        "    eficienciaLitro = float(input('Qual a eficiencia do veiculo com 1 litro de combustivel?'))\n",
        "    tempoViagem = float(input('Qual o tempo gasto na viagem?'))\n",
        "    velocidadeMedia = float(input('Qual a velocidade media durante a viagem?'))\n",
        "    return eficienciaLitro, tempoViagem, velocidadeMedia\n",
        "\n",
        "def calcularDintancia(tempo, velocidade):\n",
        "    distancia = tempo * velocidade\n",
        "    return distancia\n",
        "\n",
        "def calcularConsumo(distanciaViagem, consumoMotor):\n",
        "    consumoViagem = (distanciaViagem / consumoMotor)\n",
        "    return consumoViagem\n",
        "\n",
        "def apresentarResultados(velocidadeM, tempoV, distanciaP, consumoV):\n",
        "    print(f'A velocidade média na viagem foi de {velocidadeM}')\n",
        "    print(f'O tempo no trajeto foi de {tempoV}')\n",
        "    print(f'A distancia percorrida no trajeto foi de {distanciaP}')\n",
        "    print(f'O consumo de combustivel na viagem foi {consumoV}')\n",
        "\n",
        "\n",
        "efLitro, tempV, velMed = parametrosIniciais()\n",
        "\n",
        "dadoDistancia = calcularDintancia(tempV, velMed)\n",
        "\n",
        "dadoConsumo = calcularConsumo(dadoDistancia, efLitro)\n",
        "\n",
        "resultados = apresentarResultados(velMed, tempV, dadoDistancia, dadoConsumo)\n"
      ]
    }
  ],
  "metadata": {
    "colab": {
      "include_colab_link": true,
      "provenance": []
    },
    "kernelspec": {
      "display_name": "Python 3",
      "name": "python3"
    },
    "language_info": {
      "codemirror_mode": {
        "name": "ipython",
        "version": 3
      },
      "file_extension": ".py",
      "mimetype": "text/x-python",
      "name": "python",
      "nbconvert_exporter": "python",
      "pygments_lexer": "ipython3",
      "version": "3.10.13"
    }
  },
  "nbformat": 4,
  "nbformat_minor": 0
}
