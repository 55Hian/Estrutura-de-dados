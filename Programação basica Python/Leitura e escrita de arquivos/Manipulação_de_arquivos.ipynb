{
  "cells": [
    {
      "cell_type": "markdown",
      "metadata": {
        "colab_type": "text",
        "id": "view-in-github"
      },
      "source": [
        "<a href=\"https://colab.research.google.com/github/55Hian/Estrutura-de-dados/blob/main/Manipula%C3%A7%C3%A3o_de_arquivos.ipynb\" target=\"_parent\"><img src=\"https://colab.research.google.com/assets/colab-badge.svg\" alt=\"Open In Colab\"/></a>"
      ]
    },
    {
      "cell_type": "markdown",
      "metadata": {
        "id": "2mwCD5b1rYff"
      },
      "source": [
        "# Manipulação de arquivos"
      ]
    },
    {
      "cell_type": "code",
      "execution_count": null,
      "metadata": {
        "colab": {
          "base_uri": "https://localhost:8080/",
          "height": 134
        },
        "id": "ArTonogGOsJn",
        "outputId": "912ce7b7-0714-48ae-faa6-b0de776815fa"
      },
      "outputs": [
        {
          "name": "stdout",
          "output_type": "stream",
          "text": [
            "Olá\n",
            "\n",
            "Estou aprendendo \n",
            "\n",
            "a linguagem Python\n",
            "\n",
            "E estou gostando muito\n"
          ]
        }
      ],
      "source": [
        "with open('/content/frase1.txt', 'r') as tex:\n",
        "  for linha in tex:\n",
        "    print(linha)"
      ]
    },
    {
      "cell_type": "code",
      "execution_count": null,
      "metadata": {
        "id": "wcWclSzJPFIL"
      },
      "outputs": [],
      "source": [
        "with open('/content/frase1.txt') as tex:\n",
        "  r = tex.readlines()"
      ]
    },
    {
      "cell_type": "code",
      "execution_count": null,
      "metadata": {
        "colab": {
          "base_uri": "https://localhost:8080/",
          "height": 84
        },
        "id": "U3uJreD9PLvj",
        "outputId": "6f3c3a76-72d9-44ec-f780-488d2c285f98"
      },
      "outputs": [
        {
          "data": {
            "text/plain": [
              "['Olá\\n',\n",
              " 'Estou aprendendo \\n',\n",
              " 'a linguagem Python\\n',\n",
              " 'E estou gostando muito']"
            ]
          },
          "execution_count": 4,
          "metadata": {
            "tags": []
          },
          "output_type": "execute_result"
        }
      ],
      "source": [
        "r"
      ]
    },
    {
      "cell_type": "code",
      "execution_count": 1,
      "metadata": {
        "id": "6dq9eo69PWrb"
      },
      "outputs": [],
      "source": [
        "with open('texto2.txt', 'w') as texto:\n",
        "  texto.write('Olá a todos')"
      ]
    },
    {
      "cell_type": "code",
      "execution_count": 2,
      "metadata": {
        "colab": {
          "base_uri": "https://localhost:8080/",
          "height": 34
        },
        "id": "NdKoO4PoPvzP",
        "outputId": "a33f6b2c-fb66-49d6-eb4c-6da648e0c678"
      },
      "outputs": [
        {
          "name": "stdout",
          "output_type": "stream",
          "text": [
            "Olá a todos\n"
          ]
        }
      ],
      "source": [
        "with open('texto2.txt', 'r') as tex:\n",
        "  for linha in tex:\n",
        "    print(linha)"
      ]
    },
    {
      "cell_type": "code",
      "execution_count": 34,
      "metadata": {},
      "outputs": [
        {
          "name": "stdout",
          "output_type": "stream",
          "text": [
            "aluno,nota(Pedro,8.0)\n",
            "\n",
            "aluno,nota(Maria,10.0)\n",
            "\n",
            "aluno,nota(Amilton,7.5)\n",
            "\n"
          ]
        }
      ],
      "source": [
        "alunos = {'Pedro': 8.0, 'Maria': 10.0, 'Amilton': 7.5}\n",
        "\n",
        "with open('notaAlunos.txt', 'w') as arquivoAlunos:\n",
        "    for aluno, notaAlunos in alunos.items():\n",
        "        arquivoAlunos.write(f'aluno,nota({aluno},{notaAlunos})\\n')\n",
        "\n",
        "with open('notaAlunos.txt', 'r') as arquivoAlunosRead:\n",
        "    for alunoRead in arquivoAlunosRead:\n",
        "        print(alunoRead)"
      ]
    }
  ],
  "metadata": {
    "colab": {
      "include_colab_link": true,
      "provenance": []
    },
    "kernelspec": {
      "display_name": "Python 3",
      "name": "python3"
    },
    "language_info": {
      "codemirror_mode": {
        "name": "ipython",
        "version": 3
      },
      "file_extension": ".py",
      "mimetype": "text/x-python",
      "name": "python",
      "nbconvert_exporter": "python",
      "pygments_lexer": "ipython3",
      "version": "3.10.13"
    }
  },
  "nbformat": 4,
  "nbformat_minor": 0
}
