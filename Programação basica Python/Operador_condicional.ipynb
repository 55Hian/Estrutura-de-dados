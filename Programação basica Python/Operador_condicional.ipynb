{
  "cells": [
    {
      "cell_type": "markdown",
      "metadata": {
        "colab_type": "text",
        "id": "view-in-github"
      },
      "source": [
        "<a href=\"https://colab.research.google.com/github/55Hian/Estrutura-de-dados/blob/main/Operador_condicional.ipynb\" target=\"_parent\"><img src=\"https://colab.research.google.com/assets/colab-badge.svg\" alt=\"Open In Colab\"/></a>"
      ]
    },
    {
      "cell_type": "markdown",
      "metadata": {
        "id": "pt5Crzm9dcS-"
      },
      "source": [
        "# Operador condicional"
      ]
    },
    {
      "cell_type": "code",
      "execution_count": null,
      "metadata": {
        "colab": {
          "base_uri": "https://localhost:8080/",
          "height": 34
        },
        "id": "hLMwOWhm9EQH",
        "outputId": "2488da00-8149-4a8a-ed4f-c5fb2ee643cc"
      },
      "outputs": [
        {
          "data": {
            "text/plain": [
              "True"
            ]
          },
          "execution_count": 1,
          "metadata": {
            "tags": []
          },
          "output_type": "execute_result"
        }
      ],
      "source": [
        "5 > 3"
      ]
    },
    {
      "cell_type": "code",
      "execution_count": null,
      "metadata": {
        "colab": {
          "base_uri": "https://localhost:8080/",
          "height": 34
        },
        "id": "l0Ipmn5t9UZM",
        "outputId": "772d91dc-9337-4b13-bd77-1beac4f97035"
      },
      "outputs": [
        {
          "name": "stdout",
          "output_type": "stream",
          "text": [
            "5 é maior que 3\n"
          ]
        }
      ],
      "source": [
        "if 5 > 3:\n",
        "  print('5 é maior que 3')\n",
        "#print('teste')"
      ]
    },
    {
      "cell_type": "code",
      "execution_count": null,
      "metadata": {
        "colab": {
          "base_uri": "https://localhost:8080/",
          "height": 34
        },
        "id": "-bnw5b_o-EXg",
        "outputId": "56a979d0-5970-4178-bd80-9229adee1d1f"
      },
      "outputs": [
        {
          "name": "stdout",
          "output_type": "stream",
          "text": [
            "5 é maior\n"
          ]
        }
      ],
      "source": [
        "if 5 > 4:\n",
        "  print('5 é maior')\n",
        "else:\n",
        "  print('5 não é maior')"
      ]
    },
    {
      "cell_type": "code",
      "execution_count": null,
      "metadata": {
        "colab": {
          "base_uri": "https://localhost:8080/",
          "height": 34
        },
        "id": "ed6VhpYG_CPo",
        "outputId": "c4132ddf-dadf-4c1a-b458-6fe878b2611a"
      },
      "outputs": [
        {
          "name": "stdout",
          "output_type": "stream",
          "text": [
            "n não é igual a 4 nem 3\n"
          ]
        }
      ],
      "source": [
        "n = 9\n",
        "if n == 4:\n",
        "  print('n é igual a 4')\n",
        "else:\n",
        "  if n == 3:\n",
        "    print('n é igual a 3')\n",
        "  else:\n",
        "    print('n não é igual a 4 nem 3')"
      ]
    },
    {
      "cell_type": "code",
      "execution_count": null,
      "metadata": {
        "colab": {
          "base_uri": "https://localhost:8080/",
          "height": 34
        },
        "id": "MXvFuxeU_jl4",
        "outputId": "d1050db2-c6c9-4f03-cde9-b7e0e5e7636c"
      },
      "outputs": [
        {
          "name": "stdout",
          "output_type": "stream",
          "text": [
            "Uma ou nenhuma das condições foram satisfeitas\n"
          ]
        }
      ],
      "source": [
        "x = 1\n",
        "y = 5\n",
        "if (x > 1) or (y % 2 == 0):\n",
        "  print('x é maior que 1 e y é par')\n",
        "else:\n",
        "  print('Uma ou nenhuma das condições foram satisfeitas')"
      ]
    },
    {
      "cell_type": "markdown",
      "metadata": {},
      "source": [
        "Leia a idade do usuário e classifique-o em:\n",
        "- Criança – 0 a 12 anos\n",
        "- Adolescente – 13 a 17 anos\n",
        "- Adulto – acima de 18 anos\n",
        "- Se o usuário digitar um número negativo, mostrar a mensagem que a idade é inválida"
      ]
    },
    {
      "cell_type": "code",
      "execution_count": 11,
      "metadata": {},
      "outputs": [
        {
          "name": "stdout",
          "output_type": "stream",
          "text": [
            "Adulto\n"
          ]
        }
      ],
      "source": [
        "idade = int(input('digite sua idade'))\n",
        "\n",
        "if (idade < 0):\n",
        "    print('Idade invalida')\n",
        "elif (idade >= 0 ) and (idade <= 12):\n",
        "    print('Criança')\n",
        "elif (idade >= 13) and (idade <= 17):\n",
        "        print('Adolescente')\n",
        "else: \n",
        "    print('Adulto')"
      ]
    },
    {
      "cell_type": "markdown",
      "metadata": {},
      "source": [
        "Calcular a média de um aluno que cursou a disciplina de Programação I, a partir da leitura das notas M1, M2 e M3; passando por um cálculo da média aritmética. Após a média calculada, devemos anunciar se o aluno foi aprovado, reprovado ou pegou exame\n",
        "- Se a média estiver entre 0.0 e 4.0, o aluno está reprovado\n",
        "- Se a média estiver entre 4.1 e 6.0, o aluno pegou exame\n",
        "- Se a média for maior do que 6.0, o aluno está aprovado\n",
        "- Se o aluno pegou exame, deve ser lida a nota do exame. Se a nota do exame for maior do que 6.0, está aprovado, senão; está reprovado"
      ]
    },
    {
      "cell_type": "code",
      "execution_count": 20,
      "metadata": {},
      "outputs": [
        {
          "name": "stdout",
          "output_type": "stream",
          "text": [
            "Aluno está aprovado\n"
          ]
        }
      ],
      "source": [
        "m1 = float(input('Digite a nota M1'))\n",
        "m2 = float(input('Digite a nota M2'))\n",
        "m3 = float(input('Digite a nota M3'))\n",
        "\n",
        "mediaAritimetica = (m1 + m2 + m3) / 3\n",
        "\n",
        "if (mediaAritimetica > 6):\n",
        "    print('Aluno está aprovado')\n",
        "elif (mediaAritimetica >= 0) and (mediaAritimetica <= 4):\n",
        "        print('Aluno está reprovado')\n",
        "elif (mediaAritimetica >= 4.1) and (mediaAritimetica <= 6):\n",
        "    print('Aluno pegou exame')\n",
        "    notaExame = float(input('Qual foi a nota do exame do aluno?'))\n",
        "    if (notaExame > 6):\n",
        "        print('Aluno aprovado após exame!')\n",
        "    else:\n",
        "        print('Aluno reprovado após exame!')"
      ]
    }
  ],
  "metadata": {
    "colab": {
      "include_colab_link": true,
      "provenance": []
    },
    "kernelspec": {
      "display_name": "Python 3",
      "name": "python3"
    },
    "language_info": {
      "codemirror_mode": {
        "name": "ipython",
        "version": 3
      },
      "file_extension": ".py",
      "mimetype": "text/x-python",
      "name": "python",
      "nbconvert_exporter": "python",
      "pygments_lexer": "ipython3",
      "version": "3.10.13"
    }
  },
  "nbformat": 4,
  "nbformat_minor": 0
}
