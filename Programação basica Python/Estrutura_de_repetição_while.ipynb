{
  "cells": [
    {
      "cell_type": "markdown",
      "metadata": {
        "colab_type": "text",
        "id": "view-in-github"
      },
      "source": [
        "<a href=\"https://colab.research.google.com/github/55Hian/Estrutura-de-dados/blob/main/Estrutura_de_repeti%C3%A7%C3%A3o_while.ipynb\" target=\"_parent\"><img src=\"https://colab.research.google.com/assets/colab-badge.svg\" alt=\"Open In Colab\"/></a>"
      ]
    },
    {
      "cell_type": "markdown",
      "metadata": {
        "id": "5hg58pyZe2oS"
      },
      "source": [
        "# Estruturas de repetição - while"
      ]
    },
    {
      "cell_type": "code",
      "execution_count": 1,
      "metadata": {
        "colab": {
          "base_uri": "https://localhost:8080/",
          "height": 118
        },
        "id": "97oTadu-WF4t",
        "outputId": "331b0f90-fa6d-4c89-b5a4-906843b430ed"
      },
      "outputs": [
        {
          "name": "stdout",
          "output_type": "stream",
          "text": [
            "1\n",
            "2\n",
            "3\n",
            "4\n",
            "5\n",
            "---\n"
          ]
        }
      ],
      "source": [
        "numero = 1\n",
        "while numero < 6:\n",
        "  print(numero)\n",
        "  numero += 1\n",
        "print('---')"
      ]
    },
    {
      "cell_type": "code",
      "execution_count": null,
      "metadata": {
        "colab": {
          "base_uri": "https://localhost:8080/",
          "height": 101
        },
        "id": "aXkrSeO2Wvms",
        "outputId": "0547bd89-793f-469d-985c-021d2cd8d3d2"
      },
      "outputs": [
        {
          "name": "stdout",
          "output_type": "stream",
          "text": [
            "5\n",
            "4\n",
            "3\n",
            "2\n",
            "1\n"
          ]
        }
      ],
      "source": [
        "numero = 5\n",
        "while numero > 0:\n",
        "  print(numero)\n",
        "  numero -= 1"
      ]
    },
    {
      "cell_type": "code",
      "execution_count": null,
      "metadata": {
        "colab": {
          "base_uri": "https://localhost:8080/",
          "height": 34
        },
        "id": "-nIW4iunW6QQ",
        "outputId": "d874ba2a-4b8d-4ac3-ab49-a5ff91f7db5c"
      },
      "outputs": [
        {
          "data": {
            "text/plain": [
              "15"
            ]
          },
          "execution_count": 5,
          "metadata": {
            "tags": []
          },
          "output_type": "execute_result"
        }
      ],
      "source": [
        "1 + 2 + 3 + 4 + 5"
      ]
    },
    {
      "cell_type": "code",
      "execution_count": null,
      "metadata": {
        "colab": {
          "base_uri": "https://localhost:8080/",
          "height": 34
        },
        "id": "uCoU9t1wW9fG",
        "outputId": "6086ed13-2749-4ed2-b562-a70f80f3bb43"
      },
      "outputs": [
        {
          "name": "stdout",
          "output_type": "stream",
          "text": [
            "15\n"
          ]
        }
      ],
      "source": [
        "soma = 0\n",
        "numero = 1\n",
        "while numero < 6:\n",
        "  soma += numero\n",
        "  numero += 1\n",
        "print(soma)"
      ]
    },
    {
      "cell_type": "code",
      "execution_count": null,
      "metadata": {
        "colab": {
          "base_uri": "https://localhost:8080/",
          "height": 34
        },
        "id": "b7oXoYxXXNH6",
        "outputId": "9276dd2e-eb45-4c36-c82e-579a775dfe47"
      },
      "outputs": [
        {
          "name": "stdout",
          "output_type": "stream",
          "text": [
            "Digite um número de 1 a 10: 5\n"
          ]
        }
      ],
      "source": [
        "numero = 12\n",
        "while numero < 1 or numero > 10:\n",
        "  numero = int(input('Digite um número de 1 a 10: '))"
      ]
    },
    {
      "cell_type": "markdown",
      "metadata": {},
      "source": [
        "Ler 5 notas e informar a média"
      ]
    },
    {
      "cell_type": "code",
      "execution_count": 15,
      "metadata": {},
      "outputs": [
        {
          "name": "stdout",
          "output_type": "stream",
          "text": [
            "A nota final é de 7.0\n"
          ]
        }
      ],
      "source": [
        "notas = [0, 0, 0, 0, 0]\n",
        "somanota = 0\n",
        "\n",
        "for nota in range(len(notas)):\n",
        "    # print(nota)\n",
        "    notas[nota]= float(input(f'Digite a {nota + 1}ª nota'))\n",
        "    somanota += notas[nota]    \n",
        "\n",
        "if somanota:\n",
        "    notafinal = somanota / len(notas)\n",
        "    print(f'A nota final é de {notafinal}')"
      ]
    },
    {
      "cell_type": "code",
      "execution_count": 5,
      "metadata": {},
      "outputs": [
        {
          "name": "stdout",
          "output_type": "stream",
          "text": [
            "a nota final é 6.6\n"
          ]
        }
      ],
      "source": [
        "nota = 0\n",
        "\n",
        "for i in range(0, 5):\n",
        "    nota += float(input(f'Digite a {i + 1}ª nota'))\n",
        "\n",
        "print(f'a nota final é {nota/5}')"
      ]
    },
    {
      "cell_type": "code",
      "execution_count": 7,
      "metadata": {},
      "outputs": [
        {
          "name": "stdout",
          "output_type": "stream",
          "text": [
            "a nota final é 5.0\n"
          ]
        }
      ],
      "source": [
        "nota = 0\n",
        "i = 0\n",
        "\n",
        "while (i <= 4):\n",
        "    nota += float(input(f'Digite a {i + 1}ª nota'))\n",
        "    i += 1\n",
        "\n",
        "print(f'a nota final é {nota/5}')\n"
      ]
    },
    {
      "cell_type": "markdown",
      "metadata": {},
      "source": [
        "Imprimir a tabuada do número 3 (3 x 1 = 1 - 3 x 10 = 30)"
      ]
    },
    {
      "cell_type": "code",
      "execution_count": 16,
      "metadata": {},
      "outputs": [
        {
          "name": "stdout",
          "output_type": "stream",
          "text": [
            "[3, 6, 9, 12, 15, 18, 21, 24, 27, 30]\n"
          ]
        }
      ],
      "source": [
        "tabuada = [0, 0, 0, 0, 0, 0, 0, 0, 0, 0,]\n",
        "\n",
        "for x in range(len(tabuada)):\n",
        "    tabuada[x] = (x + 1) * 3\n",
        "\n",
        "print(tabuada) "
      ]
    },
    {
      "cell_type": "code",
      "execution_count": 4,
      "metadata": {},
      "outputs": [
        {
          "name": "stdout",
          "output_type": "stream",
          "text": [
            "3 elevado a 0 é igual a 0\n",
            "3 elevado a 1 é igual a 3\n",
            "3 elevado a 2 é igual a 6\n",
            "3 elevado a 3 é igual a 9\n",
            "3 elevado a 4 é igual a 12\n",
            "3 elevado a 5 é igual a 15\n",
            "3 elevado a 6 é igual a 18\n",
            "3 elevado a 7 é igual a 21\n",
            "3 elevado a 8 é igual a 24\n",
            "3 elevado a 9 é igual a 27\n",
            "3 elevado a 10 é igual a 30\n"
          ]
        }
      ],
      "source": [
        "tabuada = 0\n",
        "\n",
        "for i in range(0, 11):\n",
        "    print(f'3 elevado a {i} é igual a {3 * i}')"
      ]
    },
    {
      "cell_type": "code",
      "execution_count": 2,
      "metadata": {},
      "outputs": [
        {
          "name": "stdout",
          "output_type": "stream",
          "text": [
            "3 * 0 = 0\n",
            "3 * 1 = 3\n",
            "3 * 2 = 6\n",
            "3 * 3 = 9\n",
            "3 * 4 = 12\n",
            "3 * 5 = 15\n",
            "3 * 6 = 18\n",
            "3 * 7 = 21\n",
            "3 * 8 = 24\n",
            "3 * 9 = 27\n",
            "3 * 10 = 30\n"
          ]
        }
      ],
      "source": [
        "i = 0\n",
        "\n",
        "while (i <= 10):\n",
        "    print(f'3 * {i} = {3 * i}')\n",
        "    i += 1"
      ]
    }
  ],
  "metadata": {
    "colab": {
      "include_colab_link": true,
      "provenance": []
    },
    "kernelspec": {
      "display_name": "Python 3",
      "name": "python3"
    },
    "language_info": {
      "codemirror_mode": {
        "name": "ipython",
        "version": 3
      },
      "file_extension": ".py",
      "mimetype": "text/x-python",
      "name": "python",
      "nbconvert_exporter": "python",
      "pygments_lexer": "ipython3",
      "version": "3.10.13"
    }
  },
  "nbformat": 4,
  "nbformat_minor": 0
}
