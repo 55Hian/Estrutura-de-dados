{
 "cells": [
  {
   "cell_type": "code",
   "execution_count": 6,
   "metadata": {},
   "outputs": [
    {
     "ename": "TypeError",
     "evalue": "mensagemTexto() missing 1 required positional argument: 'entradaUsuario'",
     "output_type": "error",
     "traceback": [
      "\u001b[0;31m---------------------------------------------------------------------------\u001b[0m",
      "\u001b[0;31mTypeError\u001b[0m                                 Traceback (most recent call last)",
      "Cell \u001b[0;32mIn[6], line 3\u001b[0m\n\u001b[1;32m      1\u001b[0m \u001b[39mimport\u001b[39;00m \u001b[39mlib\u001b[39;00m\n\u001b[0;32m----> 3\u001b[0m mensagemTeste \u001b[39m=\u001b[39m lib\u001b[39m.\u001b[39;49mmensagemTexto()\n\u001b[1;32m      4\u001b[0m \u001b[39mprint\u001b[39m(mensagemTeste)\n\u001b[1;32m      6\u001b[0m mensagemFTeste \u001b[39m=\u001b[39m lib\u001b[39m.\u001b[39mmensagemFloat()\n",
      "\u001b[0;31mTypeError\u001b[0m: mensagemTexto() missing 1 required positional argument: 'entradaUsuario'"
     ]
    }
   ],
   "source": [
    "import lib\n",
    "\n",
    "mensagemTeste = lib.mensagemTexto()\n",
    "print(mensagemTeste)\n",
    "\n",
    "mensagemFTeste = lib.mensagemFloat()\n",
    "print(mensagemFTeste)"
   ]
  }
 ],
 "metadata": {
  "kernelspec": {
   "display_name": "Python 3",
   "language": "python",
   "name": "python3"
  },
  "language_info": {
   "codemirror_mode": {
    "name": "ipython",
    "version": 3
   },
   "file_extension": ".py",
   "mimetype": "text/x-python",
   "name": "python",
   "nbconvert_exporter": "python",
   "pygments_lexer": "ipython3",
   "version": "3.10.13"
  }
 },
 "nbformat": 4,
 "nbformat_minor": 2
}
