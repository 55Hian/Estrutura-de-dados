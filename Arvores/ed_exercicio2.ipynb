{
  "cells": [
    {
      "cell_type": "markdown",
      "metadata": {
        "id": "frLKy5wtE_VG"
      },
      "source": [
        "1) Este exercício envolve o entendimento da estrutura de uma árvore binária. Estude o código abaixo e explique detalhadamente como ele impllementa os métodos de pesquisa, inserção e remoção (faça testes!). Finalmente, responda as perguntas:\n",
        "\n",
        "1. Por que existem duas classes neste código?\n",
        "2. Como essas classes interagem uma com a outra?\n",
        "3. O que significa o termo \"_recursivamente\" que aparece em alguns métodos (explique)?\n",
        "4.  O que se pode afrimar sobre o fato de termos métodos recursivos em termos de complexidade (custo) computacional?\n",
        "5. faça um desenho da árvore binária que ele constroe\n"
      ]
    },
    {
      "cell_type": "code",
      "execution_count": 1,
      "metadata": {
        "colab": {
          "base_uri": "https://localhost:8080/"
        },
        "id": "VNP5uY_Woc-j",
        "outputId": "a1317f6e-e7c4-428c-8d9a-8c9007095269"
      },
      "outputs": [
        {
          "name": "stdout",
          "output_type": "stream",
          "text": [
            "Árvore em ordem:\n",
            "20 30 40 50 60 70 80 \n",
            "Procurar 40 na árvore: True\n",
            "Procurar 90 na árvore: False\n"
          ]
        }
      ],
      "source": [
        "class Node:\n",
        "    def __init__(self, classificacao):\n",
        "        self.classificacao = classificacao\n",
        "        self.esquerda = None\n",
        "        self.direita = None\n",
        "\n",
        "class ArvoreBinaria:\n",
        "    def __init__(self):\n",
        "        self.classificacaoAnimal = None\n",
        "\n",
        "    def inserir(self, classificacao):\n",
        "        if self.classificacaoAnimal is None:\n",
        "            self.classificacaoAnimal = Node(classificacao)\n",
        "        else:\n",
        "            self._inserir_recursivamente(self.classificacaoAnimal, classificacao)\n",
        "\n",
        "    def _inserir_recursivamente(self, no_atual, classificacao):\n",
        "        if classificacao < no_atual.classificacao:\n",
        "            if no_atual.esquerda is None:\n",
        "                no_atual.esquerda = Node(classificacao)\n",
        "            else:\n",
        "                self._inserir_recursivamente(no_atual.esquerda, classificacao)\n",
        "        elif classificacao > no_atual.classificacao:\n",
        "            if no_atual.direita is None:\n",
        "                no_atual.direita = Node(classificacao)\n",
        "            else:\n",
        "                self._inserir_recursivamente(no_atual.direita, classificacao)\n",
        "\n",
        "    def procurar(self, classificacao):\n",
        "        return self._procurar_recursivamente(self.classificacaoAnimal, classificacao)\n",
        "\n",
        "    def _procurar_recursivamente(self, no_atual, classificacao):\n",
        "        if no_atual is None:\n",
        "            return False\n",
        "        if classificacao == no_atual.classificacao:\n",
        "            return True\n",
        "        elif classificacao < no_atual.classificacao:\n",
        "            return self._procurar_recursivamente(no_atual.esquerda, classificacao)\n",
        "        else:\n",
        "            return self._procurar_recursivamente(no_atual.direita, classificacao)\n",
        "\n",
        "    def imprimir_em_ordem(self):\n",
        "        self._imprimir_em_ordem_recursivamente(self.classificacaoAnimal)\n",
        "\n",
        "    def _imprimir_em_ordem_recursivamente(self, no_atual):\n",
        "        if no_atual is not None:\n",
        "            self._imprimir_em_ordem_recursivamente(no_atual.esquerda)\n",
        "            print(no_atual.classificacao, end=' ')\n",
        "            self._imprimir_em_ordem_recursivamente(no_atual.direita)\n",
        "\n",
        "# Exemplo de uso\n",
        "arvore = ArvoreBinaria()\n",
        "arvore.inserir(50)\n",
        "arvore.inserir(30)\n",
        "arvore.inserir(70)\n",
        "arvore.inserir(20)\n",
        "arvore.inserir(40)\n",
        "arvore.inserir(60)\n",
        "arvore.inserir(80)\n",
        "\n",
        "print(\"Árvore em ordem:\")\n",
        "arvore.imprimir_em_ordem()\n",
        "\n",
        "print(\"\\nProcurar 40 na árvore:\", arvore.procurar(40))\n",
        "print(\"Procurar 90 na árvore:\", arvore.procurar(90))\n"
      ]
    },
    {
      "cell_type": "markdown",
      "metadata": {
        "id": "sKd-pHYnHsLZ"
      },
      "source": [
        "2) Jogo de Adivinhação de Animais\n",
        "\n",
        "Descrição:\n",
        "\n",
        "1. O aluno deve criar um programa Python que implemente um jogo de adivinhação de animais utilizando uma árvore binária.\n",
        "2. O jogo começa com uma pergunta inicial sobre um animal. Por exemplo: \"O animal que você está pensando é um mamífero?\"\n",
        "3. Dependendo da resposta do jogador (sim ou não), o programa avança para a próxima pergunta correspondente, que pode ser sobre uma característica específica do animal.\n",
        "4. O jogo continua até o programa adivinhar corretamente o animal ou até não haver mais perguntas para fazer. Se o programa não adivinhar corretamente, ele deve pedir ao jogador para fornecer o nome do animal que estava pensando e uma característica única desse animal para adicionar ao jogo.\n",
        "5. O programa deve armazenar a árvore binária de perguntas e respostas em algum formato, como um dicionário Python, onde os nós internos representam perguntas e as folhas representam os animais.\n",
        "6. O aluno deve fornecer uma lista inicial de animais e características para iniciar o jogo. \\\\\n",
        "\n",
        "\n",
        "Exemplo:\n",
        "\n",
        "O programa começa perguntando se o animal é um mamífero. \\\\\n",
        "Se o jogador responder sim, o programa pode perguntar se o animal tem listras. \\\\\n",
        "Se o jogador responder sim novamente, o programa pode adivinhar que o animal é uma zebra. \\\\\n",
        "Se o jogador responder não, o programa pode perguntar se o animal é grande. \\\\\n",
        "Se o jogador responder sim, o programa pode adivinhar que o animal é um elefante. \\\\\n",
        "Se o jogador responder não, o programa pode perguntar se o animal tem presas.  \\\\\n",
        "E assim por diante, até que o programa adivinhe corretamente o animal ou não haja mais perguntas para fazer. \\\\\n",
        "\n",
        "Desafio extra:\n",
        "\n",
        "O aluno pode implementar a persistência dos dados da árvore binária em um arquivo para que o jogo possa ser continuado de onde parou mesmo depois de fechar o programa.\n",
        "O aluno pode adicionar funcionalidades extras, como um sistema de pontuação para acompanhar quantas vezes o programa adivinhou corretamente ou incorretamente."
      ]
    },
    {
      "cell_type": "markdown",
      "metadata": {
        "id": "_iSanddDDkHg"
      },
      "source": [
        "#Depois de sua implementação e testes, explique aqui, detalhadamente, o que faz o algoritmo acima:\n"
      ]
    },
    {
      "cell_type": "code",
      "execution_count": null,
      "metadata": {},
      "outputs": [],
      "source": [
        "class Node:\n",
        "    def __init__(self, classificacao):\n",
        "        self.classificacao = classificacao\n",
        "        self.esquerda = None\n",
        "        self.direita = None\n",
        "\n",
        "class ArvoreBinaria:\n",
        "    def __init__(self):\n",
        "        self.classificacaoAnimal = None\n",
        "\n",
        "    def inserir(self, classificacao):\n",
        "        if self.classificacaoAnimal is None:\n",
        "            self.classificacaoAnimal = Node(classificacao)\n",
        "        else:\n",
        "            self._inserir_recursivamente(self.classificacaoAnimal, classificacao)\n",
        "\n",
        "    def _inserir_recursivamente(self, no_atual, classificacao):\n",
        "        if classificacao == no_atual.classificacao:\n",
        "            if no_atual.esquerda is None:\n",
        "                no_atual.esquerda = Node(classificacao)\n",
        "            else:\n",
        "                self._inserir_recursivamente(no_atual.esquerda, classificacao)\n",
        "        elif no_atual.direita is None:\n",
        "            no_atual.direita = Node(classificacao)\n",
        "        else:\n",
        "            self._inserir_recursivamente(no_atual.direita, classificacao)\n",
        "\n",
        "    def procurar(self, classificacao):\n",
        "        return self._procurar_recursivamente(self.classificacaoAnimal, classificacao)\n",
        "    \n",
        "    def _procurar_recursivamente(self, no_atual, classificacao):\n",
        "        if no_atual is None:\n",
        "            return False\n",
        "        if classificacao == no_atual.classificacao:\n",
        "            return True\n",
        "        elif classificacao < no_atual.classificacao:\n",
        "            return self._procurar_recursivamente(no_atual.esquerda, classificacao)\n",
        "        else:\n",
        "            return self._procurar_recursivamente(no_atual.direita, classificacao)\n"
      ]
    }
  ],
  "metadata": {
    "colab": {
      "provenance": []
    },
    "kernelspec": {
      "display_name": "Python 3",
      "name": "python3"
    },
    "language_info": {
      "codemirror_mode": {
        "name": "ipython",
        "version": 3
      },
      "file_extension": ".py",
      "mimetype": "text/x-python",
      "name": "python",
      "nbconvert_exporter": "python",
      "pygments_lexer": "ipython3",
      "version": "3.10.13"
    }
  },
  "nbformat": 4,
  "nbformat_minor": 0
}
