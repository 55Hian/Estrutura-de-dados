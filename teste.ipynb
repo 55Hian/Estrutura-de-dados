{
 "cells": [
  {
   "cell_type": "code",
   "execution_count": 2,
   "metadata": {},
   "outputs": [
    {
     "name": "stdout",
     "output_type": "stream",
     "text": [
      "Requirement already satisfied: bokeh in /usr/local/python/3.10.13/lib/python3.10/site-packages (3.4.1)\n",
      "Requirement already satisfied: Jinja2>=2.9 in /home/codespace/.local/lib/python3.10/site-packages (from bokeh) (3.1.2)\n",
      "Requirement already satisfied: contourpy>=1.2 in /home/codespace/.local/lib/python3.10/site-packages (from bokeh) (1.2.0)\n",
      "Requirement already satisfied: numpy>=1.16 in /home/codespace/.local/lib/python3.10/site-packages (from bokeh) (1.26.3)\n",
      "Requirement already satisfied: packaging>=16.8 in /home/codespace/.local/lib/python3.10/site-packages (from bokeh) (23.2)\n",
      "Requirement already satisfied: pandas>=1.2 in /home/codespace/.local/lib/python3.10/site-packages (from bokeh) (2.1.4)\n",
      "Requirement already satisfied: pillow>=7.1.0 in /home/codespace/.local/lib/python3.10/site-packages (from bokeh) (10.2.0)\n",
      "Requirement already satisfied: PyYAML>=3.10 in /home/codespace/.local/lib/python3.10/site-packages (from bokeh) (6.0.1)\n",
      "Requirement already satisfied: tornado>=6.2 in /home/codespace/.local/lib/python3.10/site-packages (from bokeh) (6.4)\n",
      "Requirement already satisfied: xyzservices>=2021.09.1 in /usr/local/python/3.10.13/lib/python3.10/site-packages (from bokeh) (2024.4.0)\n",
      "Requirement already satisfied: MarkupSafe>=2.0 in /home/codespace/.local/lib/python3.10/site-packages (from Jinja2>=2.9->bokeh) (2.1.3)\n",
      "Requirement already satisfied: python-dateutil>=2.8.2 in /home/codespace/.local/lib/python3.10/site-packages (from pandas>=1.2->bokeh) (2.8.2)\n",
      "Requirement already satisfied: pytz>=2020.1 in /home/codespace/.local/lib/python3.10/site-packages (from pandas>=1.2->bokeh) (2023.3.post1)\n",
      "Requirement already satisfied: tzdata>=2022.1 in /home/codespace/.local/lib/python3.10/site-packages (from pandas>=1.2->bokeh) (2023.4)\n",
      "Requirement already satisfied: six>=1.5 in /home/codespace/.local/lib/python3.10/site-packages (from python-dateutil>=2.8.2->pandas>=1.2->bokeh) (1.16.0)\n",
      "\n",
      "\u001b[1m[\u001b[0m\u001b[34;49mnotice\u001b[0m\u001b[1;39;49m]\u001b[0m\u001b[39;49m A new release of pip is available: \u001b[0m\u001b[31;49m23.3.2\u001b[0m\u001b[39;49m -> \u001b[0m\u001b[32;49m24.0\u001b[0m\n",
      "\u001b[1m[\u001b[0m\u001b[34;49mnotice\u001b[0m\u001b[1;39;49m]\u001b[0m\u001b[39;49m To update, run: \u001b[0m\u001b[32;49mpip install --upgrade pip\u001b[0m\n",
      "Note: you may need to restart the kernel to use updated packages.\n"
     ]
    }
   ],
   "source": [
    "pip install bokeh"
   ]
  },
  {
   "cell_type": "code",
   "execution_count": 1,
   "metadata": {},
   "outputs": [],
   "source": [
    "from bokeh.document import Document\n",
    "from bokeh.embed import file_html\n",
    "from bokeh.models import (BoxSelectTool, ColumnDataSource, GMapOptions, GMapPlot,\n",
    "                          Label, LinearAxis, MercatorTicker,\n",
    "                          MercatorTickFormatter, PanTool, Scatter, WheelZoomTool)\n",
    "from bokeh.util.browser import view"
   ]
  },
  {
   "cell_type": "code",
   "execution_count": null,
   "metadata": {},
   "outputs": [],
   "source": [
    "# JSON style string taken from: https://snazzymaps.com/style/1/pale-dawn\n",
    "map_options = GMapOptions(lat=30.2861, lng=-97.7394, map_type=\"roadmap\", zoom=13, styles=\"\"\"\n",
    "[{\"featureType\":\"administrative\",\"elementType\":\"all\",\"stylers\":[{\"visibility\":\"on\"},{\"lightness\":33}]},{\"featureType\":\"landscape\",\"elementType\":\"all\",\"stylers\":[{\"color\":\"#f2e5d4\"}]},{\"featureType\":\"poi.park\",\"elementType\":\"geometry\",\"stylers\":[{\"color\":\"#c5dac6\"}]},{\"featureType\":\"poi.park\",\"elementType\":\"labels\",\"stylers\":[{\"visibility\":\"on\"},{\"lightness\":20}]},{\"featureType\":\"road\",\"elementType\":\"all\",\"stylers\":[{\"lightness\":20}]},{\"featureType\":\"road.highway\",\"elementType\":\"geometry\",\"stylers\":[{\"color\":\"#c5c6c6\"}]},{\"featureType\":\"road.arterial\",\"elementType\":\"geometry\",\"stylers\":[{\"color\":\"#e4d7c6\"}]},{\"featureType\":\"road.local\",\"elementType\":\"geometry\",\"stylers\":[{\"color\":\"#fbfaf7\"}]},{\"featureType\":\"water\",\"elementType\":\"all\",\"stylers\":[{\"visibility\":\"on\"},{\"color\":\"#acbcc9\"}]}]\n",
    "\"\"\")\n",
    "\n",
    "# Google Maps now requires an API key. You can find out how to get one here:\n",
    "# https://developers.google.com/maps/documentation/javascript/get-api-key\n",
    "API_KEY = \"GOOGLE_API_KEY\"\n",
    "\n",
    "plot = GMapPlot(map_options=map_options, api_key=API_KEY)\n",
    "\n",
    "if plot.api_key == \"GOOGLE_API_KEY\":\n",
    "    plot.add_layout(Label(x=140, y=400, x_units='screen', y_units='screen',\n",
    "                          text='Replace GOOGLE_API_KEY with your own key',\n",
    "                          text_color='red'))\n",
    "\n",
    "plot.title.text = \"Austin\"\n",
    "\n",
    "source = ColumnDataSource(\n",
    "    data=dict(\n",
    "        lat=[30.2861, 30.2855, 30.2869],\n",
    "        lon=[-97.7394, -97.7390, -97.7405],\n",
    "        fill=['orange', 'blue', 'green'],\n",
    "    ),\n",
    ")\n",
    "\n",
    "scatter = Scatter(x=\"lon\", y=\"lat\", size=15, fill_color=\"fill\", line_color=\"black\")\n",
    "plot.add_glyph(source, scatter)\n",
    "\n",
    "pan = PanTool()\n",
    "wheel_zoom = WheelZoomTool()\n",
    "box_select = BoxSelectTool()\n",
    "\n",
    "plot.add_tools(pan, wheel_zoom, box_select)\n",
    "\n",
    "xformatter = MercatorTickFormatter(dimension=\"lon\")\n",
    "xticker = MercatorTicker(dimension=\"lon\")\n",
    "xaxis = LinearAxis(formatter=xformatter, ticker=xticker)\n",
    "plot.add_layout(xaxis, 'below')\n",
    "\n",
    "yformatter = MercatorTickFormatter(dimension=\"lat\")\n",
    "yticker = MercatorTicker(dimension=\"lat\")\n",
    "yaxis = LinearAxis(formatter=yformatter, ticker=yticker)\n",
    "plot.add_layout(yaxis, 'left')\n",
    "\n",
    "doc = Document()\n",
    "doc.add_root(plot)\n",
    "\n",
    "if __name__ == \"__main__\":\n",
    "    doc.validate()\n",
    "    filename = \"maps.html\"\n",
    "    with open(filename, \"w\") as f:\n",
    "        f.write(file_html(doc, title=\"Google Maps Example\"))\n",
    "    print(f\"Wrote {filename}\")\n",
    "    view(filename)"
   ]
  }
 ],
 "metadata": {
  "language_info": {
   "name": "python"
  }
 },
 "nbformat": 4,
 "nbformat_minor": 2
}
