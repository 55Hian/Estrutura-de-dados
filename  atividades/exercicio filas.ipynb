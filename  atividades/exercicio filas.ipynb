{
 "cells": [
  {
   "cell_type": "markdown",
   "metadata": {},
   "source": [
    "### 1) Qual(is) a(s) diferença(s) entre uma pilha e uma fila? Dê um exemplo de cada uma das estruturas de dados aplicada a vida real. "
   ]
  },
  {
   "cell_type": "markdown",
   "metadata": {},
   "source": [
    "Uma pilha tem a caracteristica de permitir somente a visualização do ultimo item inserido nela, outra caracteristica importante é o fato da pilha remover sempre o ultimo a ser removido, basicamente, o ultimo valor a ser inserido é o primeiro valor a ser retirado.\n",
    "Em contramão temos a fila, onde sua principal caracteristica é o fato de que o primeiro item a entrar é o primeiro item a sair dela, logo, o ultimo item a entrar será o primeiro item a sair.\n",
    "\n",
    "aplicando exemplos da vida real temos, \n",
    "\n",
    "para pilhas: \n",
    "\n",
    "O envaze de batatas chips na embalagem de pringles, a primeira batata que foi armazenada, será a ultima batata a ser consumida.\n",
    "\n",
    "para filas:\n",
    "\n",
    "Sistemas de impressão que respeitam a ordem de chegada dos arquivos e imprimem de acordo com essa ordem, o primeiro arquivo que chega é o primeiro arquivo impresso.\n",
    "\n"
   ]
  },
  {
   "cell_type": "markdown",
   "metadata": {},
   "source": []
  },
  {
   "cell_type": "markdown",
   "metadata": {},
   "source": [
    "### O estudante devem implementar uma fila para simular o controle de clientes em uma fila de um caixa de supermercado. Ele devem utilizar uma classe que represente a fila e implementar operações como adição de clientes e atendimento no caixa.\n",
    "Instruções:\n",
    "1) Crie uma classe chamada FilaSupermercado para representar a fila do caixa de um supermercado.\n",
    "2) Implemente o método adicionar_clienteque adiciona um cliente ao final da fila.\n",
    "3) Implemente o método atender_clienteque remove e retorna o cliente do início da fila, simulando o atendimento no caixa.\n",
    "4) Implemente o método verificar_filaque exibe a quantidade de clientes na fila no momento.!"
   ]
  },
  {
   "cell_type": "code",
   "execution_count": 40,
   "metadata": {},
   "outputs": [
    {
     "name": "stdout",
     "output_type": "stream",
     "text": [
      "0  -  1\n",
      "1  -  2\n",
      "2  -  5\n",
      "3  -  4\n",
      "4  -  3\n"
     ]
    }
   ],
   "source": [
    "import numpy as np\n",
    "\n",
    "class FilaSuperMercado:\n",
    "\n",
    "    def __init__(self, capacidade):\n",
    "        self.capacidade = capacidade\n",
    "        self.ultima_posicao = -1\n",
    "        self.valores = np.empty(self.capacidade, dtype=int)\n",
    "\n",
    "    def adicionar_cliente(self, valor):\n",
    "        if self.ultima_posicao == self.capacidade - 1:\n",
    "            print('Capacidade maxima da fila atingida')\n",
    "            return\n",
    "        else:\n",
    "            self.ultima_posicao += 1\n",
    "            self.valores[self.ultima_posicao] = valor\n",
    "\n",
    "    def atender_cliente(self):\n",
    "        if self.ultima_posicao == -1:\n",
    "            print('A fila está vazia!')\n",
    "            return\n",
    "        else:\n",
    "            for i in range(0, self.ultima_posicao):\n",
    "                self.valores[i] = self.valores[i + 1]\n",
    "\n",
    "            self.ultima_posicao -= 1\n",
    "\n",
    "    def verificar_fila(self):\n",
    "        if self.ultima_posicao == -1:\n",
    "            print('O fila está vazia!')\n",
    "        else:\n",
    "            for i in range(self.ultima_posicao + 1):\n",
    "                print(i, ' - ', self.valores[i])\n",
    "\n",
    "\n",
    "minhaFila = FilaSuperMercado(5)\n",
    "\n",
    "minhaFila.adicionar_cliente(1)\n",
    "minhaFila.adicionar_cliente(2)\n",
    "minhaFila.adicionar_cliente(5)\n",
    "minhaFila.adicionar_cliente(4)\n",
    "minhaFila.adicionar_cliente(3)\n",
    "\n",
    "minhaFila.verificar_fila()"
   ]
  },
  {
   "cell_type": "code",
   "execution_count": 45,
   "metadata": {},
   "outputs": [
    {
     "name": "stdout",
     "output_type": "stream",
     "text": [
      "O fila está vazia!\n"
     ]
    }
   ],
   "source": [
    "minhaFila.atender_cliente()\n",
    "\n",
    "minhaFila.verificar_fila()"
   ]
  },
  {
   "cell_type": "markdown",
   "metadata": {},
   "source": [
    "### 3) O estudante deve implementar uma fila de prioridades para simular o controle de atendimento médico em uma clínica. A fila de prioridades deve considerar a urgência dos casos para garantir que os pacientes mais críticos sejam atendidos primeiro.\n",
    "Instruções:\n",
    "1) Crie uma classe chamada FilaPrioridadesClinicapara representar a fila de prioridades em uma clínica médica.\n",
    "2) Implemente o método adicionar_pacienteque adiciona um paciente à fila considerando a sua urgência (prioridade).\n",
    "3) Implemente o método atender_pacienteque remove e retorna o paciente de maior prioridade para simular o atendimento médico.\n",
    "4) Implemente o método verificar_filaque exibe a quantidade de pacientes na fila no momento."
   ]
  },
  {
   "cell_type": "code",
   "execution_count": 67,
   "metadata": {},
   "outputs": [
    {
     "name": "stdout",
     "output_type": "stream",
     "text": [
      "O fila está vazia!\n"
     ]
    }
   ],
   "source": [
    "import numpy as np\n",
    "import heapq\n",
    "\n",
    "class FilaPrioridadesClinica:\n",
    "    \n",
    "    def __init__(self, capacidade):\n",
    "        self.capacidade = capacidade\n",
    "        self.ultima_posicao = -1\n",
    "        self.valores = []\n",
    "        \n",
    "    def adicionar_paciente(self, valor, prioridade ):\n",
    "        if self.ultima_posicao == self.capacidade - 1:\n",
    "            print('Capacidade maxima da fila atingida')\n",
    "            return\n",
    "        else:\n",
    "            self.ultima_posicao += 1\n",
    "            heapq.heappush(self.valores, (prioridade, valor))\n",
    "            \n",
    "    def atender_paciente(self):\n",
    "        if self.ultima_posicao == -1:\n",
    "            print('A fila está vazia!')\n",
    "            return\n",
    "        else:\n",
    "           heapq.heappop(self.valores)[1]\n",
    "           self.ultima_posicao -= 1\n",
    "\n",
    "    def verificar_fila(self):\n",
    "        if self.ultima_posicao == -1:\n",
    "            print('O fila está vazia!')\n",
    "        else:\n",
    "            for i in range(self.ultima_posicao + 1):\n",
    "                print(i, ' - ', self.valores[i])\n",
    "\n",
    "\n",
    "minhafila = FilaPrioridadesClinica(3)\n",
    "minhafila.verificar_fila()\n"
   ]
  },
  {
   "cell_type": "code",
   "execution_count": 59,
   "metadata": {},
   "outputs": [
    {
     "name": "stdout",
     "output_type": "stream",
     "text": [
      "O fila está vazia!\n"
     ]
    }
   ],
   "source": [
    "minhafila.adicionar_paciente(\"Paciente 1\", 1)\n",
    "minhafila.adicionar_paciente(\"Paciente 2\", 2)\n",
    "minhafila.adicionar_paciente(\"Paciente 3\", 3)\n",
    "minhafila.verificar_fila()"
   ]
  },
  {
   "cell_type": "code",
   "execution_count": 60,
   "metadata": {},
   "outputs": [],
   "source": [
    "minhafila.atender_paciente()\n",
    "minhafila.atender_paciente()\n",
    "\n",
    "minhafila.verificar_fila()"
   ]
  },
  {
   "cell_type": "markdown",
   "metadata": {},
   "source": [
    "### 4) Neste exercício, o estudante deve implementar uma fila circular para simular a distribuição de tarefas em uma equipe de desenvolvimento de software. A fila circular será utilizada para designar tarefas aos membros da equipe de forma contínua, garantindo que todos tenham a oportunidade de contribuir.\n",
    "Instruções:\n",
    "1) Crie uma classe chamada FilaCircularTarefaspara representar a fila circular de tarefas.\n",
    "2) Implemente o método adicionar_tarefaque adiciona uma tarefa ao final da fila, designando-a ao próximo membro disponível da equipe.\n",
    "3) Implemente o método realizar_tarefaque remove e retorna a tarefa do início da fila, simulando a conclusão da tarefa por um membro da equipe.\n",
    "4) Implemente o método verificar_filaque exibe a quantidade de tarefas na fila e a lista de membros da equipe."
   ]
  },
  {
   "cell_type": "code",
   "execution_count": 32,
   "metadata": {},
   "outputs": [],
   "source": [
    "class FilaCircularTarefas:\n",
    "    def __init__(self, capacidade):\n",
    "        self.capacidade= capacidade\n",
    "        self.fila= [None] * capacidade\n",
    "        self.pessoas=[None] * capacidade\n",
    "        self.front= self.rear= -1\n",
    "\n",
    "    def is_empty(self):\n",
    "        return self.front== self.rear== -1\n",
    "\n",
    "    def is_full(self):\n",
    "        return (self.rear + 1) % self.capacidade == self.front\n",
    "\n",
    "    def adicionar_tarefa(self, elemento):\n",
    "        if self.is_full():\n",
    "            print(\"A fila está cheia. Não é possível adicionar mais elementos.\")\n",
    "        else:\n",
    "            if self.is_empty():\n",
    "                self.front= self.rear= 0\n",
    "            else:\n",
    "                self.rear= (self.rear+ 1) % self.capacidade\n",
    "        self.fila[self.rear] = elemento\n",
    "        self.pessoas[self.rear] = input(\"Quem é a pessoa responsavel?\")\n",
    "\n",
    "    def realizar_tarefa(self):\n",
    "        if self.is_empty():\n",
    "            print(\"A fila está vazia. Não é possível remover elementos.\")\n",
    "            return None\n",
    "        else:\n",
    "            elemento_removido= self.fila[self.front]\n",
    "            pessoa_removida = self.pessoas[self.front]\n",
    "            if self.front== self.rear:\n",
    "                self.front= self.rear= -1\n",
    "            else:\n",
    "                self.front= (self.front+ 1) % self.capacidade\n",
    "                return elemento_removido, pessoa_removida\n",
    "\n",
    "    def verificar_fila(self):\n",
    "        for x in range(len(self.fila)):\n",
    "            print('Tarefa: ', self.fila[x], ' | ' ,'Responsavel: ', self.pessoas[x])"
   ]
  },
  {
   "cell_type": "code",
   "execution_count": 33,
   "metadata": {},
   "outputs": [],
   "source": [
    "fila = FilaCircularTarefas(3)"
   ]
  },
  {
   "cell_type": "code",
   "execution_count": 34,
   "metadata": {},
   "outputs": [
    {
     "data": {
      "text/plain": [
       "False"
      ]
     },
     "execution_count": 34,
     "metadata": {},
     "output_type": "execute_result"
    }
   ],
   "source": [
    "fila.is_full()"
   ]
  },
  {
   "cell_type": "code",
   "execution_count": 37,
   "metadata": {},
   "outputs": [],
   "source": [
    "fila.adicionar_tarefa('tarefa 8')\n"
   ]
  },
  {
   "cell_type": "code",
   "execution_count": 38,
   "metadata": {},
   "outputs": [
    {
     "name": "stdout",
     "output_type": "stream",
     "text": [
      "Tarefa:  tarefa 1 Responsavel:  Hian\n",
      "Tarefa:  tarefa 5 Responsavel:  Erika\n",
      "Tarefa:  tarefa 8 Responsavel:  Andre\n"
     ]
    }
   ],
   "source": [
    "fila.verificar_fila()"
   ]
  },
  {
   "cell_type": "code",
   "execution_count": 39,
   "metadata": {},
   "outputs": [
    {
     "data": {
      "text/plain": [
       "('tarefa 1', 'Hian')"
      ]
     },
     "execution_count": 39,
     "metadata": {},
     "output_type": "execute_result"
    }
   ],
   "source": [
    "fila.realizar_tarefa()"
   ]
  },
  {
   "cell_type": "code",
   "execution_count": 44,
   "metadata": {},
   "outputs": [
    {
     "name": "stdout",
     "output_type": "stream",
     "text": [
      "A fila está cheia. Não é possível adicionar mais elementos.\n"
     ]
    }
   ],
   "source": [
    "fila.adicionar_tarefa('tarefa 92')"
   ]
  }
 ],
 "metadata": {
  "kernelspec": {
   "display_name": "Python 3",
   "language": "python",
   "name": "python3"
  },
  "language_info": {
   "codemirror_mode": {
    "name": "ipython",
    "version": 3
   },
   "file_extension": ".py",
   "mimetype": "text/x-python",
   "name": "python",
   "nbconvert_exporter": "python",
   "pygments_lexer": "ipython3",
   "version": "3.10.13"
  }
 },
 "nbformat": 4,
 "nbformat_minor": 2
}
