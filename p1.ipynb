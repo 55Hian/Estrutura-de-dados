{
 "cells": [
  {
   "cell_type": "code",
   "execution_count": 125,
   "metadata": {},
   "outputs": [],
   "source": [
    "class recepcao:\n",
    "    \n",
    "    def __init__(self, capacidade):\n",
    "        self.__bdPessoa = {} # Armazena cliente da clinica.\n",
    "        self.__senhaSistema = '0000' #Senha que cadastra novos clientes.\n",
    "        self.__capacidadeEspera = capacidade #define a capacidade maxima de atendimento da clinica\n",
    "        self.__quantidadePacientesAtual = -1 #indice de controle para controle da fila\n",
    "        self.__filaRecepcao = [None] * self.__capacidadeEspera # recebe os clientes que foram aceitos na recepção\n",
    "        self.__filaTriagem = [] # recebe os clientes que serão enviados para triagem\n",
    "\n",
    "    def admin_AdicionarPessoa(self, documento, nome, senha): \n",
    "        \"\"\"\n",
    "        Cadastra novas pessoas na array bdPessoa, solicita uma senha de validação para o processo.\n",
    "        O processo só continua se a senha digitada estiver de acordo com a senha definida.\n",
    "\n",
    "        Parameters:\n",
    "        Documento(int) - documento da pessoa\n",
    "        nome(String) - Nome da pessoa\n",
    "        senha(String) - Senha de sistema para cadastar pessoas\n",
    "\n",
    "        retorno: True se o cadastro for bem sucedido, false se não for possivel cadastrar o cliente.\n",
    "        \"\"\"\n",
    "        if (senha == self.__senhaSistema):\n",
    "            self.__documento = documento\n",
    "            self.__nome = nome  \n",
    "            self.__bdPessoa[self.__documento] = self.__nome \n",
    "            return True\n",
    "        else:\n",
    "            return False\n",
    "\n",
    "    def verificarDocumento(self, documento): \n",
    "        \"\"\"\n",
    "        Valida se o documento inserido existe no sistema.\n",
    "\n",
    "        Parameters:\n",
    "        Documento(int) - documento da pessoa\n",
    "\n",
    "        retorno: true se existe na array de pessoas cadastradas, false se não existir.\n",
    "        \"\"\"\n",
    "        self.__pessoa = self.__bdPessoa.get(documento)\n",
    "        documentoExiste = True if self.__pessoa else False #Operador ternario (se houver valor em \"__pessoa\", retornara true, caso contrario, retornara false)\n",
    "        return documentoExiste\n",
    "        \n",
    "    def adicionarNaFila(self, documento):\n",
    "        \"\"\"\n",
    "        Adiciona pessoa a fila de triagem.\n",
    "        \n",
    "        Parameters:\n",
    "        Documento(int) - documento da pessoa\n",
    "\n",
    "        retorno: true se pessoa foi adicionada a fila de triagem, false se a pessoa não foi adicionada a fila de triagem\n",
    "        \"\"\"\n",
    "        validarDocumento = self.verificarDocumento(documento)\n",
    "\n",
    "        if (validarDocumento == True) and (self.__capacidadeEspera - 1 > self.__quantidadePacientesAtual) :\n",
    "            self.__quantidadePacientesAtual += 1\n",
    "            self.__filaRecepcao[self.__quantidadePacientesAtual] = self.__pessoa\n",
    "            return True\n",
    "        else:\n",
    "            return False\n",
    "    \n",
    "    def verificarFila(self, nome = None):\n",
    "        \"\"\"\n",
    "        Verifica uma posição da fila ou toda a fila da recepção.\n",
    "\n",
    "        Parameters: \n",
    "        nome(String) - nome da pessoa\n",
    "\n",
    "        retorno: Se não realizar passagem de parametro, retorna a fila inteira da recepção, se passar parametro, retorna \n",
    "        posição do paciente na fila, se não encontrar paciente na fila, retorna que o paciente não foi localizado.\n",
    "        \"\"\"           \n",
    "        if (nome == None):\n",
    "            return f'As pessoas na fila são: {self.__filaRecepcao}, A quantidade de vagas em aberto da clinica é {self.__capacidadeEspera-1 - self.__quantidadePacientesAtual}'\n",
    "        \n",
    "        else:\n",
    "            for registro in range(len(self.__quantidadePacientesAtual)):\n",
    "                print(self.__quantidadePacientesAtual)\n",
    "                print(self.__filaRecepcao[registro])\n",
    "                if self.__filaRecepcao[registro] == nome:\n",
    "                    return f'{nome} está na fila, e será o {registro} paciente a ser atendido pela triagem'\n",
    "                else: \n",
    "                    return f'{nome} não está na fila da recepção.'\n",
    "\n",
    "    def enviarParaTriagem(self):\n",
    "        \"\"\"\n",
    "        Não retorna valores.\n",
    "\n",
    "        Envia os nomes para a array de triagem e limpa a fila da recepção\n",
    "        \"\"\"\n",
    "        for registro in range(self.__quantidadePacientesAtual + 1):\n",
    "            self.__filaTriagem.append(self.__filaRecepcao[0])\n",
    "        \n",
    "            for i in range(0, self.__quantidadePacientesAtual):\n",
    "                self.__filaRecepcao[i] = self.__filaRecepcao[i+1]\n",
    "\n",
    "            self.__quantidadePacientesAtual -= 1\n",
    "\n",
    "    def gerarLogRecepção(self):\n",
    "        \"\"\"\n",
    "        Não retorna valores\n",
    "\n",
    "        Gera um arquivo txt de log das pessoas registradas na recepção.\n",
    "        \"\"\"\n",
    "        with open('FilaRecepcao.txt', 'w') as fila:\n",
    "            for log in self.__filaTriagem:\n",
    "                # if log != None:\n",
    "                fila.write(f'{log} \\n')\n",
    "\n",
    "       \n",
    "\n"
   ]
  },
  {
   "cell_type": "markdown",
   "metadata": {},
   "source": [
    "### Cria recepção"
   ]
  },
  {
   "cell_type": "code",
   "execution_count": 126,
   "metadata": {},
   "outputs": [],
   "source": [
    "recepcaoClinica = recepcao(10)"
   ]
  },
  {
   "cell_type": "markdown",
   "metadata": {},
   "source": [
    "## Cadastrando clientes na clinica"
   ]
  },
  {
   "cell_type": "code",
   "execution_count": 127,
   "metadata": {},
   "outputs": [
    {
     "data": {
      "text/plain": [
       "True"
      ]
     },
     "execution_count": 127,
     "metadata": {},
     "output_type": "execute_result"
    }
   ],
   "source": [
    "recepcaoClinica.admin_AdicionarPessoa('00001', 'admin', '0000')\n",
    "recepcaoClinica.admin_AdicionarPessoa('00002', 'Hian', '0000')\n",
    "recepcaoClinica.admin_AdicionarPessoa('00003', 'Erika', '0000')\n",
    "recepcaoClinica.admin_AdicionarPessoa('00004', 'Jorge', '0000')"
   ]
  },
  {
   "cell_type": "markdown",
   "metadata": {},
   "source": [
    "### Verifica se o usuario esta cadastrado no array de usuarios cadastrados da clinica"
   ]
  },
  {
   "cell_type": "code",
   "execution_count": 128,
   "metadata": {},
   "outputs": [
    {
     "name": "stdout",
     "output_type": "stream",
     "text": [
      "False\n",
      "True\n",
      "True\n",
      "True\n"
     ]
    }
   ],
   "source": [
    "print(recepcaoClinica.verificarDocumento('00000'))\n",
    "print(recepcaoClinica.verificarDocumento('00001'))\n",
    "print(recepcaoClinica.verificarDocumento('00002'))\n",
    "print(recepcaoClinica.verificarDocumento('00003'))"
   ]
  },
  {
   "cell_type": "markdown",
   "metadata": {},
   "source": [
    "### Adiciona paciente a fila da recepção."
   ]
  },
  {
   "cell_type": "code",
   "execution_count": 129,
   "metadata": {},
   "outputs": [
    {
     "name": "stdout",
     "output_type": "stream",
     "text": [
      "False\n",
      "True\n",
      "True\n",
      "True\n",
      "True\n"
     ]
    }
   ],
   "source": [
    "print(recepcaoClinica.adicionarNaFila('00000'))\n",
    "print(recepcaoClinica.adicionarNaFila('00001'))\n",
    "print(recepcaoClinica.adicionarNaFila('00002'))\n",
    "print(recepcaoClinica.adicionarNaFila('00003'))\n",
    "print(recepcaoClinica.adicionarNaFila('00004'))"
   ]
  },
  {
   "cell_type": "markdown",
   "metadata": {},
   "source": [
    "### Verifica um paciente na fila de pacientes"
   ]
  },
  {
   "cell_type": "code",
   "execution_count": 130,
   "metadata": {},
   "outputs": [
    {
     "ename": "TypeError",
     "evalue": "object of type 'int' has no len()",
     "output_type": "error",
     "traceback": [
      "\u001b[0;31m---------------------------------------------------------------------------\u001b[0m",
      "\u001b[0;31mTypeError\u001b[0m                                 Traceback (most recent call last)",
      "Cell \u001b[0;32mIn[130], line 1\u001b[0m\n\u001b[0;32m----> 1\u001b[0m \u001b[39mprint\u001b[39m(recepcaoClinica\u001b[39m.\u001b[39;49mverificarFila(\u001b[39m'\u001b[39;49m\u001b[39mHian\u001b[39;49m\u001b[39m'\u001b[39;49m))\n",
      "Cell \u001b[0;32mIn[125], line 76\u001b[0m, in \u001b[0;36mrecepcao.verificarFila\u001b[0;34m(self, nome)\u001b[0m\n\u001b[1;32m     73\u001b[0m     \u001b[39mreturn\u001b[39;00m \u001b[39mf\u001b[39m\u001b[39m'\u001b[39m\u001b[39mAs pessoas na fila são: \u001b[39m\u001b[39m{\u001b[39;00m\u001b[39mself\u001b[39m\u001b[39m.\u001b[39m__filaRecepcao\u001b[39m}\u001b[39;00m\u001b[39m, A quantidade de vagas em aberto da clinica é \u001b[39m\u001b[39m{\u001b[39;00m\u001b[39mself\u001b[39m\u001b[39m.\u001b[39m__capacidadeEspera\u001b[39m-\u001b[39m\u001b[39m1\u001b[39m\u001b[39m \u001b[39m\u001b[39m-\u001b[39m\u001b[39m \u001b[39m\u001b[39mself\u001b[39m\u001b[39m.\u001b[39m__quantidadePacientesAtual\u001b[39m}\u001b[39;00m\u001b[39m'\u001b[39m\n\u001b[1;32m     75\u001b[0m \u001b[39melse\u001b[39;00m:\n\u001b[0;32m---> 76\u001b[0m     \u001b[39mfor\u001b[39;00m registro \u001b[39min\u001b[39;00m \u001b[39mrange\u001b[39m(\u001b[39mlen\u001b[39;49m(\u001b[39mself\u001b[39;49m\u001b[39m.\u001b[39;49m__quantidadePacientesAtual)):\n\u001b[1;32m     77\u001b[0m         \u001b[39mprint\u001b[39m(\u001b[39mself\u001b[39m\u001b[39m.\u001b[39m__quantidadePacientesAtual)\n\u001b[1;32m     78\u001b[0m         \u001b[39mprint\u001b[39m(\u001b[39mself\u001b[39m\u001b[39m.\u001b[39m__filaRecepcao[registro])\n",
      "\u001b[0;31mTypeError\u001b[0m: object of type 'int' has no len()"
     ]
    }
   ],
   "source": [
    "print(recepcaoClinica.verificarFila('Hian'))"
   ]
  },
  {
   "cell_type": "markdown",
   "metadata": {},
   "source": [
    "### Verifica toda a fila de pacientes"
   ]
  },
  {
   "cell_type": "code",
   "execution_count": 124,
   "metadata": {},
   "outputs": [
    {
     "name": "stdout",
     "output_type": "stream",
     "text": [
      "As pessoas na fila são: ['admin', 'Hian', 'Erika', 'Jorge', None, None, None, None, None, None], A quantidade de vagas em aberto da clinica é 6\n"
     ]
    }
   ],
   "source": [
    "print(recepcaoClinica.verificarFila())"
   ]
  },
  {
   "cell_type": "markdown",
   "metadata": {},
   "source": [
    "### Envia fila da recepção para triagem"
   ]
  },
  {
   "cell_type": "code",
   "execution_count": 79,
   "metadata": {},
   "outputs": [],
   "source": [
    "recepcaoClinica.enviarParaTriagem()"
   ]
  },
  {
   "cell_type": "markdown",
   "metadata": {},
   "source": [
    "### Gera log dos pacientes cadastrados na recepção"
   ]
  },
  {
   "cell_type": "code",
   "execution_count": 80,
   "metadata": {},
   "outputs": [],
   "source": [
    "recepcaoClinica.gerarLogRecepção()"
   ]
  },
  {
   "cell_type": "markdown",
   "metadata": {},
   "source": [
    "## Triagem"
   ]
  },
  {
   "cell_type": "code",
   "execution_count": 16,
   "metadata": {},
   "outputs": [],
   "source": [
    "import heapq\n",
    "\n",
    "class classeTriagem:\n",
    "    \n",
    "    def __init__(self):\n",
    "        self.triagem = []\n",
    "        self.listaPrioridade = []\n",
    "        self.triagemOrdenaPrioridade = []\n",
    "\n",
    "        with open('./FilaRecepcao.txt', 'r') as fila:\n",
    "            for linha in fila:\n",
    "                self.triagem.append(linha)\n",
    "                print(linha)\n",
    "\n",
    "    def definirPrioridade(self):\n",
    "        for pessoa in self.triagem:\n",
    "            self.prioridade = input(f'Qual é a prioridade da pessoa {pessoa}')\n",
    "            self.listaPrioridade.append(self.prioridade)\n",
    "      \n",
    "    def primeira_triagem(self):\n",
    "        for y in range(len(self.triagem)):\n",
    "            heapq.heappush(self.triagemOrdenaPrioridade, ( self.listaPrioridade[y], self.triagem[y] ))\n",
    "\n",
    "        with open('FilaTriagem.txt', 'w') as fila:\n",
    "            for x in self.triagemOrdenaPrioridade:\n",
    "                if x != '\\n':\n",
    "                    fila.write(f'{x[1]}')\n",
    "                    print('x= ', x[1])\n",
    "                else:\n",
    "                    print('ruido')\n",
    "    def visualizar(self):\n",
    "        for x in self.triagemOrdenaPrioridade:\n",
    "            print(x[1])\n"
   ]
  },
  {
   "cell_type": "code",
   "execution_count": 34,
   "metadata": {},
   "outputs": [
    {
     "name": "stdout",
     "output_type": "stream",
     "text": [
      "admin \n",
      "\n",
      "Hian \n",
      "\n",
      "Erika \n",
      "\n",
      "Pessoa de exemplo \n",
      "\n"
     ]
    }
   ],
   "source": [
    "triagemErika = classeTriagem()"
   ]
  },
  {
   "cell_type": "code",
   "execution_count": 35,
   "metadata": {},
   "outputs": [],
   "source": [
    "triagemErika.definirPrioridade()"
   ]
  },
  {
   "cell_type": "markdown",
   "metadata": {},
   "source": [
    "### Quanto menor o numero, ma"
   ]
  },
  {
   "cell_type": "code",
   "execution_count": 36,
   "metadata": {},
   "outputs": [
    {
     "name": "stdout",
     "output_type": "stream",
     "text": [
      "x=  admin \n",
      "\n",
      "x=  Hian \n",
      "\n",
      "x=  Erika \n",
      "\n",
      "x=  Pessoa de exemplo \n",
      "\n"
     ]
    }
   ],
   "source": [
    "triagemErika.primeira_triagem()"
   ]
  },
  {
   "cell_type": "code",
   "execution_count": 33,
   "metadata": {},
   "outputs": [
    {
     "name": "stdout",
     "output_type": "stream",
     "text": [
      "admin \n",
      "\n"
     ]
    }
   ],
   "source": [
    "triagemErika.visualizar()"
   ]
  },
  {
   "cell_type": "markdown",
   "metadata": {},
   "source": [
    "## Fila de espera"
   ]
  },
  {
   "cell_type": "code",
   "execution_count": 34,
   "metadata": {},
   "outputs": [],
   "source": [
    "class filaDeEspera():\n",
    "    def __init__(self):\n",
    "        self.filaTriagem = []\n",
    "        self.listaFilaEspera = []\n",
    "\n",
    "        with open('./FilaTriagem.txt', 'r') as fila:\n",
    "            for linha in fila:\n",
    "                self.listaFilaEspera.append(linha)\n",
    "\n",
    "    def verFila(self):\n",
    "        for pessoa in self.listaFilaEspera:\n",
    "            print(pessoa)\n",
    "\n",
    "    def enviarParaConsultório(self):\n",
    "        with open('FilaEspera.txt', 'w') as fila:\n",
    "            for x in self.listaFilaEspera:\n",
    "                fila.write(f'{x}' )"
   ]
  },
  {
   "cell_type": "code",
   "execution_count": 35,
   "metadata": {},
   "outputs": [],
   "source": [
    "filaDeEsperaHian = filaDeEspera()"
   ]
  },
  {
   "cell_type": "code",
   "execution_count": 36,
   "metadata": {},
   "outputs": [
    {
     "name": "stdout",
     "output_type": "stream",
     "text": [
      "admin \n",
      "\n"
     ]
    }
   ],
   "source": [
    "filaDeEsperaHian.verFila()"
   ]
  },
  {
   "cell_type": "code",
   "execution_count": 37,
   "metadata": {},
   "outputs": [],
   "source": [
    "filaDeEsperaHian.enviarParaConsultório()"
   ]
  },
  {
   "cell_type": "markdown",
   "metadata": {},
   "source": [
    "## Sala de consulta"
   ]
  },
  {
   "cell_type": "code",
   "execution_count": 38,
   "metadata": {},
   "outputs": [],
   "source": [
    "import numpy as np\n",
    "\n",
    "class salaDeConsulta:\n",
    "\n",
    "    def __init__(self):\n",
    "        self.filaEspera = []\n",
    "\n",
    "        with open('./FilaEspera.txt', 'r') as fila:\n",
    "            for linha in fila:\n",
    "                self.filaEspera.append(linha)\n",
    "\n",
    "\n",
    "    def reservarsala(self):\n",
    "        self.__capacidade = 2\n",
    "        self.__topo = -1\n",
    "        self.__valores = np.empty(self.__capacidade, dtype=str)\n",
    "        print('Sala reservada com sucesso')\n",
    "    \n",
    "    def sala_cheia(self):\n",
    "        if self.__topo == self.__capacidade - 1:\n",
    "            return True\n",
    "        else:\n",
    "            return False\n",
    "        \n",
    "    def sala_vazia(self):\n",
    "        if self.__topo == -1:\n",
    "            return True\n",
    "        else:\n",
    "            return False\n",
    "\n",
    "    def entrarSala(self, valor):\n",
    "        \n",
    "        if self.sala_cheia():\n",
    "            print('A sala está cheia')\n",
    "        else:\n",
    "            self.__topo += 1\n",
    "            self.__valores[self.__topo] = valor\n",
    "\n",
    "    def sairPaciente(self):\n",
    "        if self.__topo == 0:\n",
    "            print('Não temos pacientes, o médico está sozinho na sala') \n",
    "        elif self.sala_vazia():\n",
    "            print('A sala está vazia')\n",
    "        else:\n",
    "            self.__topo -= 1\n",
    "            print(f'O paciente {self.filaEspera[0]} saiu da consulta')\n",
    "            self.filaEspera.pop(0)\n",
    "\n",
    "    def entrarPaciente(self):\n",
    "        if len(self.filaEspera) == 0 :\n",
    "            print('Não existem pacientes na fila de espera')\n",
    "        elif self.sala_cheia():\n",
    "            print('A sala está cheia')\n",
    "        else:\n",
    "            self.__topo += 1\n",
    "            self.__valores[self.__topo] = self.filaEspera[0]\n",
    "            print(f'O paciente {self.filaEspera[0]} entrou na consulta')\n",
    "\n",
    "    def verListaPacientes(self):\n",
    "        print(self.filaEspera)\n",
    "\n",
    "\n"
   ]
  },
  {
   "cell_type": "code",
   "execution_count": 39,
   "metadata": {},
   "outputs": [],
   "source": [
    "consultorio = salaDeConsulta()"
   ]
  },
  {
   "cell_type": "code",
   "execution_count": 40,
   "metadata": {},
   "outputs": [
    {
     "name": "stdout",
     "output_type": "stream",
     "text": [
      "Sala reservada com sucesso\n"
     ]
    }
   ],
   "source": [
    "consultorio.reservarsala()"
   ]
  },
  {
   "cell_type": "code",
   "execution_count": 41,
   "metadata": {},
   "outputs": [],
   "source": [
    "consultorio.entrarSala('medico')"
   ]
  },
  {
   "cell_type": "code",
   "execution_count": 42,
   "metadata": {},
   "outputs": [
    {
     "name": "stdout",
     "output_type": "stream",
     "text": [
      "['admin \\n']\n"
     ]
    }
   ],
   "source": [
    "consultorio.verListaPacientes()"
   ]
  },
  {
   "cell_type": "code",
   "execution_count": 45,
   "metadata": {},
   "outputs": [
    {
     "name": "stdout",
     "output_type": "stream",
     "text": [
      "Não existem pacientes na fila de espera\n"
     ]
    }
   ],
   "source": [
    "consultorio.entrarPaciente()"
   ]
  },
  {
   "cell_type": "code",
   "execution_count": 46,
   "metadata": {},
   "outputs": [
    {
     "name": "stdout",
     "output_type": "stream",
     "text": [
      "Não temos pacientes, o médico está sozinho na sala\n"
     ]
    }
   ],
   "source": [
    "consultorio.sairPaciente()"
   ]
  },
  {
   "cell_type": "code",
   "execution_count": 47,
   "metadata": {},
   "outputs": [
    {
     "name": "stdout",
     "output_type": "stream",
     "text": [
      "[]\n"
     ]
    }
   ],
   "source": [
    "consultorio.verListaPacientes()"
   ]
  },
  {
   "cell_type": "markdown",
   "metadata": {},
   "source": [
    "## SEMAFORO"
   ]
  },
  {
   "cell_type": "code",
   "execution_count": 32,
   "metadata": {},
   "outputs": [],
   "source": [
    "class luzes():\n",
    "\n",
    "    def __init__(self):\n",
    "        self._valor = None \n",
    "        self._proxCor = None\n",
    "\n",
    "    def cor(self, valor):\n",
    "        self._valor = valor\n",
    "\n",
    "    def proximaCor(self, proxima):\n",
    "        self._proxCor = proxima\n",
    "\n",
    "    def verCor(self):\n",
    "        return self._valor\n",
    "\n",
    "    def verProximaCor(self):\n",
    "        return self._proxCor\n"
   ]
  },
  {
   "cell_type": "code",
   "execution_count": 33,
   "metadata": {},
   "outputs": [],
   "source": [
    "import time\n",
    "\n",
    "Verde = luzes()\n",
    "Amarelo = luzes()\n",
    "Vermelho = luzes()\n",
    "\n",
    "Verde.cor('#008000')\n",
    "Amarelo.cor('#ffff00')\n",
    "Vermelho.cor('#FF0000')\n",
    "\n",
    "Vermelho.proximaCor(Amarelo)\n",
    "Amarelo.proximaCor(Verde)\n",
    "Verde.proximaCor(Vermelho)\n",
    "\n"
   ]
  },
  {
   "cell_type": "code",
   "execution_count": 36,
   "metadata": {},
   "outputs": [
    {
     "name": "stdout",
     "output_type": "stream",
     "text": [
      "#FF0000\n",
      "#ffff00\n",
      "#008000\n",
      "#FF0000\n",
      "#ffff00\n",
      "#008000\n",
      "#FF0000\n",
      "#ffff00\n",
      "#008000\n",
      "#FF0000\n",
      "#ffff00\n",
      "#008000\n"
     ]
    }
   ],
   "source": [
    "\n",
    "Semaforo = Vermelho\n",
    "\n",
    "for x in range (12): #limitador pra não ficar infinito\n",
    "    print(Semaforo.verCor())\n",
    "    Semaforo = Semaforo.verProximaCor()\n",
    "    time.sleep(5)"
   ]
  }
 ],
 "metadata": {
  "kernelspec": {
   "display_name": "Python 3",
   "language": "python",
   "name": "python3"
  },
  "language_info": {
   "codemirror_mode": {
    "name": "ipython",
    "version": 3
   },
   "file_extension": ".py",
   "mimetype": "text/x-python",
   "name": "python",
   "nbconvert_exporter": "python",
   "pygments_lexer": "ipython3",
   "version": "3.10.13"
  }
 },
 "nbformat": 4,
 "nbformat_minor": 2
}
