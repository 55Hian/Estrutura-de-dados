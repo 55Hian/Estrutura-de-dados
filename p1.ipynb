{
 "cells": [
  {
   "cell_type": "markdown",
   "metadata": {},
   "source": [
    "class recepcao:\n",
    "    estrutura array --> chave\n",
    "    estrutura de fila \n",
    "\n",
    "\n",
    "class triagem:\n",
    "    estrutula de fila com prioridade\n",
    "\n",
    "\n",
    "class espera:\n",
    "    estrutura de fila <-- + codigo\n",
    "\n",
    "\n",
    "class consultorio:\n",
    "    estruta de pilha <-- status da sala (quantas pessoas (medico + paciente))\n",
    "\n",
    "    Estrutura de fila <-- atendimentos do dia"
   ]
  },
  {
   "cell_type": "code",
   "execution_count": 142,
   "metadata": {},
   "outputs": [],
   "source": [
    "class recepcao:\n",
    "    \n",
    "    def __init__(self):\n",
    "        self.__bdPessoa = {'00000':'admin', }\n",
    "        self.__senhaSistema = 6972\n",
    "        self.__filaTriagem = []\n",
    "\n",
    "    def admin_AdicionarPessoa(self, documento, nome):\n",
    "        if (input('Digite a senha admin') == self.__senhaSistema):\n",
    "            self.__documento = documento\n",
    "            self.__nome = nome\n",
    "            self.__bdPessoa[self.__documento] = self.__nome\n",
    "        else:\n",
    "            print('Senha incorreta')\n",
    "\n",
    "    def verificarDocumento(self, documento):\n",
    "        self.__pessoa = self.__bdPessoa.get(documento)\n",
    "        if self.__pessoa:\n",
    "             self.__filaTriagem.append(self.__pessoa)\n",
    "             return (self.__pessoa)\n",
    "        else: \n",
    "            return False\n",
    "\n",
    "    def enviarParaTriagem(self):\n",
    "        with open('FilaRecepcao.txt', 'w') as fila:\n",
    "            for x in self.__filaTriagem:\n",
    "                fila.write(f'{x} \\n' )\n",
    "    \n",
    "    def verificarFila(self):\n",
    "        return self.__filaTriagem\n",
    "            \n",
    "\n"
   ]
  },
  {
   "cell_type": "markdown",
   "metadata": {},
   "source": [
    "### Cria recepção"
   ]
  },
  {
   "cell_type": "code",
   "execution_count": 143,
   "metadata": {},
   "outputs": [],
   "source": [
    "recepcaoHian = recepcao()"
   ]
  },
  {
   "cell_type": "markdown",
   "metadata": {},
   "source": [
    "### Verifica se o usuario pode ser atendido pela clinica, se sim, é adicionado a fila, se não, indica que não é atendido pela clinica"
   ]
  },
  {
   "cell_type": "code",
   "execution_count": 148,
   "metadata": {},
   "outputs": [
    {
     "name": "stdout",
     "output_type": "stream",
     "text": [
      "admin\n"
     ]
    }
   ],
   "source": [
    "print(recepcaoHian.verificarDocumento('00000'))"
   ]
  },
  {
   "cell_type": "markdown",
   "metadata": {},
   "source": [
    "### Verifica a fila atual"
   ]
  },
  {
   "cell_type": "code",
   "execution_count": 149,
   "metadata": {},
   "outputs": [
    {
     "name": "stdout",
     "output_type": "stream",
     "text": [
      "['admin', 'admin', 'admin', 'admin', 'admin']\n"
     ]
    }
   ],
   "source": [
    "print(recepcaoHian.verificarFila())"
   ]
  },
  {
   "cell_type": "markdown",
   "metadata": {},
   "source": [
    "Envia fila da recepção para triagem (por ordem de chegada)"
   ]
  },
  {
   "cell_type": "code",
   "execution_count": 150,
   "metadata": {},
   "outputs": [],
   "source": [
    "recepcaoHian.enviarParaTriagem()"
   ]
  },
  {
   "cell_type": "markdown",
   "metadata": {},
   "source": [
    "## Triagem"
   ]
  },
  {
   "cell_type": "code",
   "execution_count": 162,
   "metadata": {},
   "outputs": [],
   "source": [
    "import heapq\n",
    "\n",
    "class classeTriagem:\n",
    "    \n",
    "    def __init__(self):\n",
    "        self.triagem = []\n",
    "        self.listaPrioridade = []\n",
    "        self.triagemOrdenaPrioridade = []\n",
    "\n",
    "        with open('./FilaRecepcao.txt', 'r') as fila:\n",
    "            for linha in fila:\n",
    "                self.triagem.append(linha)\n",
    "\n",
    "    def definirPrioridade(self):\n",
    "        for pessoa in self.triagem:\n",
    "            self.prioridade = input(f'Qual é a prioridade da pessoa {pessoa}')\n",
    "            self.listaPrioridade.append(self.prioridade)\n",
    "      \n",
    "    def primeira_triagem(self):\n",
    "        for y in range(len(self.triagem)):\n",
    "            heapq.heappush(self.triagemOrdenaPrioridade, ( self.listaPrioridade[y], self.triagem[y] ))\n",
    "\n",
    "        with open('FilaTriagem.txt', 'w') as fila:\n",
    "            for x in self.triagemOrdenaPrioridade:\n",
    "                fila.write(f'{x} \\n' )\n",
    "        \n",
    "    def visualizar(self):\n",
    "        for x in self.triagemOrdenaPrioridade:\n",
    "            print(x)\n"
   ]
  },
  {
   "cell_type": "code",
   "execution_count": 163,
   "metadata": {},
   "outputs": [],
   "source": [
    "triagemErika = classeTriagem()"
   ]
  },
  {
   "cell_type": "code",
   "execution_count": 164,
   "metadata": {},
   "outputs": [],
   "source": [
    "triagemErika.definirPrioridade()"
   ]
  },
  {
   "cell_type": "code",
   "execution_count": 165,
   "metadata": {},
   "outputs": [],
   "source": [
    "triagemErika.primeira_triagem()"
   ]
  },
  {
   "cell_type": "code",
   "execution_count": 166,
   "metadata": {},
   "outputs": [
    {
     "name": "stdout",
     "output_type": "stream",
     "text": [
      "('1', 'admin \\n')\n",
      "('3', 'admin \\n')\n",
      "('7', 'admin \\n')\n",
      "('9', 'admin \\n')\n",
      "('5', 'admin \\n')\n"
     ]
    }
   ],
   "source": [
    "triagemErika.visualizar()"
   ]
  },
  {
   "cell_type": "markdown",
   "metadata": {},
   "source": [
    "## Fila de espera"
   ]
  },
  {
   "cell_type": "code",
   "execution_count": 167,
   "metadata": {},
   "outputs": [],
   "source": [
    "class filaDeEspera():\n",
    "    def __init__(self):\n",
    "        self.filaTriagem = []\n",
    "        self.listaFilaEspera = []\n",
    "\n",
    "        with open('./FilaTriagem.txt', 'r') as fila:\n",
    "            for linha in fila:\n",
    "                self.listaFilaEspera.append(linha)\n",
    "\n",
    "    def verFila(self):\n",
    "        for pessoa in self.listaFilaEspera:\n",
    "            print(pessoa)"
   ]
  },
  {
   "cell_type": "code",
   "execution_count": 168,
   "metadata": {},
   "outputs": [],
   "source": [
    "filaDeEsperaHian = filaDeEspera()"
   ]
  },
  {
   "cell_type": "code",
   "execution_count": 169,
   "metadata": {},
   "outputs": [
    {
     "name": "stdout",
     "output_type": "stream",
     "text": [
      "('1', 'admin \\n') \n",
      "\n",
      "('3', 'admin \\n') \n",
      "\n",
      "('7', 'admin \\n') \n",
      "\n",
      "('9', 'admin \\n') \n",
      "\n",
      "('5', 'admin \\n') \n",
      "\n"
     ]
    }
   ],
   "source": [
    "filaDeEsperaHian.verFila()"
   ]
  },
  {
   "cell_type": "markdown",
   "metadata": {},
   "source": [
    "## Sala de consulta"
   ]
  },
  {
   "cell_type": "code",
   "execution_count": null,
   "metadata": {},
   "outputs": [],
   "source": [
    "class salaDeConsulta:\n",
    "\n",
    "    def __init__(self):\n",
    "        "
   ]
  }
 ],
 "metadata": {
  "kernelspec": {
   "display_name": "Python 3",
   "language": "python",
   "name": "python3"
  },
  "language_info": {
   "codemirror_mode": {
    "name": "ipython",
    "version": 3
   },
   "file_extension": ".py",
   "mimetype": "text/x-python",
   "name": "python",
   "nbconvert_exporter": "python",
   "pygments_lexer": "ipython3",
   "version": "3.10.13"
  }
 },
 "nbformat": 4,
 "nbformat_minor": 2
}
