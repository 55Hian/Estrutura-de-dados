{
 "cells": [
  {
   "cell_type": "markdown",
   "metadata": {},
   "source": [
    "class recepcao:\n",
    "    estrutura array --> chave\n",
    "    estrutura de fila \n",
    "\n",
    "\n",
    "class triagem:\n",
    "    estrutula de fila com prioridade\n",
    "\n",
    "\n",
    "class espera:\n",
    "    estrutura de fila <-- + codigo\n",
    "\n",
    "\n",
    "class consultorio:\n",
    "    estruta de pilha <-- status da sala (quantas pessoas (medico + paciente))\n",
    "\n",
    "    Estrutura de fila <-- atendimentos do dia"
   ]
  },
  {
   "cell_type": "code",
   "execution_count": 10,
   "metadata": {},
   "outputs": [],
   "source": [
    "class recepcao:\n",
    "    \n",
    "    def __init__(self, capacidade):\n",
    "        self.__bdPessoa = {'00000':'admin','00001':'Hian', '00002':'Erika' }\n",
    "        self.__senhaSistema = '6972'\n",
    "        self.__filaTriagem = []\n",
    "        self.__capacidadeEspera = capacidade\n",
    "\n",
    "    def admin_AdicionarPessoa(self, documento, nome):\n",
    "        if (str(input('Digite a senha admin')) == self.__senhaSistema):\n",
    "            self.__documento = documento\n",
    "            self.__nome = nome\n",
    "            self.__bdPessoa[self.__documento] = self.__nome\n",
    "            print(f'{nome} foi cadastrado(a) com sucesso!')\n",
    "        else:\n",
    "            print('Senha incorreta')\n",
    "\n",
    "    def verificarDocumento(self, documento):\n",
    "        self.__pessoa = self.__bdPessoa.get(documento)\n",
    "        if (self.__pessoa) and (self.__capacidadeEspera > 0):\n",
    "             self.__filaTriagem.append(self.__pessoa)\n",
    "             self.__capacidadeEspera -= 1\n",
    "             return (self.__pessoa)\n",
    "        else: \n",
    "            return False\n",
    "\n",
    "    def enviarParaTriagem(self):\n",
    "        with open('FilaRecepcao.txt', 'w') as fila:\n",
    "            for x in self.__filaTriagem:\n",
    "                fila.write(f'{x} \\n')\n",
    "\n",
    "    def verificarFila(self):\n",
    "        return f'As pessoas na fila são: {self.__filaTriagem}, A quantidade de vagas em aberto da clinica é {self.__capacidadeEspera}'\n",
    "            \n",
    "\n"
   ]
  },
  {
   "cell_type": "markdown",
   "metadata": {},
   "source": [
    "### Cria recepção\n",
    "* Deve definir a quantidade maxima de pessoas a serem atendidas"
   ]
  },
  {
   "cell_type": "code",
   "execution_count": 11,
   "metadata": {},
   "outputs": [],
   "source": [
    "recepcaoHian = recepcao(4)"
   ]
  },
  {
   "cell_type": "markdown",
   "metadata": {},
   "source": [
    "## Cadastrando um novo cliente"
   ]
  },
  {
   "cell_type": "code",
   "execution_count": 12,
   "metadata": {},
   "outputs": [
    {
     "name": "stdout",
     "output_type": "stream",
     "text": [
      "Pessoa de exemplo foi cadastrado(a) com sucesso!\n"
     ]
    }
   ],
   "source": [
    "recepcaoHian.admin_AdicionarPessoa('00003', 'Pessoa de exemplo')"
   ]
  },
  {
   "cell_type": "markdown",
   "metadata": {},
   "source": [
    "### Verifica se o usuario pode ser atendido pela clinica, se sim, é adicionado a fila, se não, indica que não é atendido pela clinica"
   ]
  },
  {
   "cell_type": "code",
   "execution_count": 13,
   "metadata": {},
   "outputs": [
    {
     "name": "stdout",
     "output_type": "stream",
     "text": [
      "admin\n",
      "Hian\n",
      "Erika\n",
      "Pessoa de exemplo\n"
     ]
    }
   ],
   "source": [
    "print(recepcaoHian.verificarDocumento('00000'))\n",
    "print(recepcaoHian.verificarDocumento('00001'))\n",
    "print(recepcaoHian.verificarDocumento('00002'))\n",
    "print(recepcaoHian.verificarDocumento('00003'))"
   ]
  },
  {
   "cell_type": "markdown",
   "metadata": {},
   "source": [
    "### Verifica a fila atual"
   ]
  },
  {
   "cell_type": "code",
   "execution_count": 14,
   "metadata": {},
   "outputs": [
    {
     "name": "stdout",
     "output_type": "stream",
     "text": [
      "As pessoas na fila são: ['admin', 'Hian', 'Erika', 'Pessoa de exemplo'], A quantidade de vagas em aberto da clinica é 0\n"
     ]
    }
   ],
   "source": [
    "print(recepcaoHian.verificarFila())"
   ]
  },
  {
   "cell_type": "markdown",
   "metadata": {},
   "source": [
    "Envia fila da recepção para triagem (por ordem de chegada)"
   ]
  },
  {
   "cell_type": "code",
   "execution_count": 15,
   "metadata": {},
   "outputs": [],
   "source": [
    "recepcaoHian.enviarParaTriagem()"
   ]
  },
  {
   "cell_type": "markdown",
   "metadata": {},
   "source": [
    "## Triagem"
   ]
  },
  {
   "cell_type": "code",
   "execution_count": 16,
   "metadata": {},
   "outputs": [],
   "source": [
    "import heapq\n",
    "\n",
    "class classeTriagem:\n",
    "    \n",
    "    def __init__(self):\n",
    "        self.triagem = []\n",
    "        self.listaPrioridade = []\n",
    "        self.triagemOrdenaPrioridade = []\n",
    "\n",
    "        with open('./FilaRecepcao.txt', 'r') as fila:\n",
    "            for linha in fila:\n",
    "                self.triagem.append(linha)\n",
    "                print(linha)\n",
    "\n",
    "    def definirPrioridade(self):\n",
    "        for pessoa in self.triagem:\n",
    "            self.prioridade = input(f'Qual é a prioridade da pessoa {pessoa}')\n",
    "            self.listaPrioridade.append(self.prioridade)\n",
    "      \n",
    "    def primeira_triagem(self):\n",
    "        for y in range(len(self.triagem)):\n",
    "            heapq.heappush(self.triagemOrdenaPrioridade, ( self.listaPrioridade[y], self.triagem[y] ))\n",
    "\n",
    "        with open('FilaTriagem.txt', 'w') as fila:\n",
    "            for x in self.triagemOrdenaPrioridade:\n",
    "                if x != '\\n':\n",
    "                    fila.write(f'{x[1]}')\n",
    "                    print('x= ', x[1])\n",
    "                else:\n",
    "                    print('ruido')\n",
    "    def visualizar(self):\n",
    "        for x in self.triagemOrdenaPrioridade:\n",
    "            print(x[1])\n"
   ]
  },
  {
   "cell_type": "code",
   "execution_count": 34,
   "metadata": {},
   "outputs": [
    {
     "name": "stdout",
     "output_type": "stream",
     "text": [
      "admin \n",
      "\n",
      "Hian \n",
      "\n",
      "Erika \n",
      "\n",
      "Pessoa de exemplo \n",
      "\n"
     ]
    }
   ],
   "source": [
    "triagemErika = classeTriagem()"
   ]
  },
  {
   "cell_type": "code",
   "execution_count": 35,
   "metadata": {},
   "outputs": [],
   "source": [
    "triagemErika.definirPrioridade()"
   ]
  },
  {
   "cell_type": "markdown",
   "metadata": {},
   "source": [
    "### Quanto menor o numero, ma"
   ]
  },
  {
   "cell_type": "code",
   "execution_count": 36,
   "metadata": {},
   "outputs": [
    {
     "name": "stdout",
     "output_type": "stream",
     "text": [
      "x=  admin \n",
      "\n",
      "x=  Hian \n",
      "\n",
      "x=  Erika \n",
      "\n",
      "x=  Pessoa de exemplo \n",
      "\n"
     ]
    }
   ],
   "source": [
    "triagemErika.primeira_triagem()"
   ]
  },
  {
   "cell_type": "code",
   "execution_count": 33,
   "metadata": {},
   "outputs": [
    {
     "name": "stdout",
     "output_type": "stream",
     "text": [
      "admin \n",
      "\n"
     ]
    }
   ],
   "source": [
    "triagemErika.visualizar()"
   ]
  },
  {
   "cell_type": "markdown",
   "metadata": {},
   "source": [
    "## Fila de espera"
   ]
  },
  {
   "cell_type": "code",
   "execution_count": 34,
   "metadata": {},
   "outputs": [],
   "source": [
    "class filaDeEspera():\n",
    "    def __init__(self):\n",
    "        self.filaTriagem = []\n",
    "        self.listaFilaEspera = []\n",
    "\n",
    "        with open('./FilaTriagem.txt', 'r') as fila:\n",
    "            for linha in fila:\n",
    "                self.listaFilaEspera.append(linha)\n",
    "\n",
    "    def verFila(self):\n",
    "        for pessoa in self.listaFilaEspera:\n",
    "            print(pessoa)\n",
    "\n",
    "    def enviarParaConsultório(self):\n",
    "        with open('FilaEspera.txt', 'w') as fila:\n",
    "            for x in self.listaFilaEspera:\n",
    "                fila.write(f'{x}' )"
   ]
  },
  {
   "cell_type": "code",
   "execution_count": 35,
   "metadata": {},
   "outputs": [],
   "source": [
    "filaDeEsperaHian = filaDeEspera()"
   ]
  },
  {
   "cell_type": "code",
   "execution_count": 36,
   "metadata": {},
   "outputs": [
    {
     "name": "stdout",
     "output_type": "stream",
     "text": [
      "admin \n",
      "\n"
     ]
    }
   ],
   "source": [
    "filaDeEsperaHian.verFila()"
   ]
  },
  {
   "cell_type": "code",
   "execution_count": 37,
   "metadata": {},
   "outputs": [],
   "source": [
    "filaDeEsperaHian.enviarParaConsultório()"
   ]
  },
  {
   "cell_type": "markdown",
   "metadata": {},
   "source": [
    "## Sala de consulta"
   ]
  },
  {
   "cell_type": "code",
   "execution_count": 38,
   "metadata": {},
   "outputs": [],
   "source": [
    "import numpy as np\n",
    "\n",
    "class salaDeConsulta:\n",
    "\n",
    "    def __init__(self):\n",
    "        self.filaEspera = []\n",
    "\n",
    "        with open('./FilaEspera.txt', 'r') as fila:\n",
    "            for linha in fila:\n",
    "                self.filaEspera.append(linha)\n",
    "\n",
    "\n",
    "    def reservarsala(self):\n",
    "        self.__capacidade = 2\n",
    "        self.__topo = -1\n",
    "        self.__valores = np.empty(self.__capacidade, dtype=str)\n",
    "        print('Sala reservada com sucesso')\n",
    "    \n",
    "    def sala_cheia(self):\n",
    "        if self.__topo == self.__capacidade - 1:\n",
    "            return True\n",
    "        else:\n",
    "            return False\n",
    "        \n",
    "    def sala_vazia(self):\n",
    "        if self.__topo == -1:\n",
    "            return True\n",
    "        else:\n",
    "            return False\n",
    "\n",
    "    def entrarSala(self, valor):\n",
    "        \n",
    "        if self.sala_cheia():\n",
    "            print('A sala está cheia')\n",
    "        else:\n",
    "            self.__topo += 1\n",
    "            self.__valores[self.__topo] = valor\n",
    "\n",
    "    def sairPaciente(self):\n",
    "        if self.__topo == 0:\n",
    "            print('Não temos pacientes, o médico está sozinho na sala') \n",
    "        elif self.sala_vazia():\n",
    "            print('A sala está vazia')\n",
    "        else:\n",
    "            self.__topo -= 1\n",
    "            print(f'O paciente {self.filaEspera[0]} saiu da consulta')\n",
    "            self.filaEspera.pop(0)\n",
    "\n",
    "    def entrarPaciente(self):\n",
    "        if len(self.filaEspera) == 0 :\n",
    "            print('Não existem pacientes na fila de espera')\n",
    "        elif self.sala_cheia():\n",
    "            print('A sala está cheia')\n",
    "        else:\n",
    "            self.__topo += 1\n",
    "            self.__valores[self.__topo] = self.filaEspera[0]\n",
    "            print(f'O paciente {self.filaEspera[0]} entrou na consulta')\n",
    "\n",
    "    def verListaPacientes(self):\n",
    "        print(self.filaEspera)\n",
    "\n",
    "\n"
   ]
  },
  {
   "cell_type": "code",
   "execution_count": 39,
   "metadata": {},
   "outputs": [],
   "source": [
    "consultorio = salaDeConsulta()"
   ]
  },
  {
   "cell_type": "code",
   "execution_count": 40,
   "metadata": {},
   "outputs": [
    {
     "name": "stdout",
     "output_type": "stream",
     "text": [
      "Sala reservada com sucesso\n"
     ]
    }
   ],
   "source": [
    "consultorio.reservarsala()"
   ]
  },
  {
   "cell_type": "code",
   "execution_count": 41,
   "metadata": {},
   "outputs": [],
   "source": [
    "consultorio.entrarSala('medico')"
   ]
  },
  {
   "cell_type": "code",
   "execution_count": 42,
   "metadata": {},
   "outputs": [
    {
     "name": "stdout",
     "output_type": "stream",
     "text": [
      "['admin \\n']\n"
     ]
    }
   ],
   "source": [
    "consultorio.verListaPacientes()"
   ]
  },
  {
   "cell_type": "code",
   "execution_count": 45,
   "metadata": {},
   "outputs": [
    {
     "name": "stdout",
     "output_type": "stream",
     "text": [
      "Não existem pacientes na fila de espera\n"
     ]
    }
   ],
   "source": [
    "consultorio.entrarPaciente()"
   ]
  },
  {
   "cell_type": "code",
   "execution_count": 46,
   "metadata": {},
   "outputs": [
    {
     "name": "stdout",
     "output_type": "stream",
     "text": [
      "Não temos pacientes, o médico está sozinho na sala\n"
     ]
    }
   ],
   "source": [
    "consultorio.sairPaciente()"
   ]
  },
  {
   "cell_type": "code",
   "execution_count": 47,
   "metadata": {},
   "outputs": [
    {
     "name": "stdout",
     "output_type": "stream",
     "text": [
      "[]\n"
     ]
    }
   ],
   "source": [
    "consultorio.verListaPacientes()"
   ]
  },
  {
   "cell_type": "markdown",
   "metadata": {},
   "source": [
    "## SEMAFORO"
   ]
  },
  {
   "cell_type": "code",
   "execution_count": 32,
   "metadata": {},
   "outputs": [],
   "source": [
    "class luzes():\n",
    "\n",
    "    def __init__(self):\n",
    "        self._valor = None \n",
    "        self._proxCor = None\n",
    "\n",
    "    def cor(self, valor):\n",
    "        self._valor = valor\n",
    "\n",
    "    def proximaCor(self, proxima):\n",
    "        self._proxCor = proxima\n",
    "\n",
    "    def verCor(self):\n",
    "        return self._valor\n",
    "\n",
    "    def verProximaCor(self):\n",
    "        return self._proxCor\n"
   ]
  },
  {
   "cell_type": "code",
   "execution_count": 33,
   "metadata": {},
   "outputs": [],
   "source": [
    "import time\n",
    "\n",
    "Verde = luzes()\n",
    "Amarelo = luzes()\n",
    "Vermelho = luzes()\n",
    "\n",
    "Verde.cor('#008000')\n",
    "Amarelo.cor('#ffff00')\n",
    "Vermelho.cor('#FF0000')\n",
    "\n",
    "Vermelho.proximaCor(Amarelo)\n",
    "Amarelo.proximaCor(Verde)\n",
    "Verde.proximaCor(Vermelho)\n",
    "\n"
   ]
  },
  {
   "cell_type": "code",
   "execution_count": 36,
   "metadata": {},
   "outputs": [
    {
     "name": "stdout",
     "output_type": "stream",
     "text": [
      "#FF0000\n",
      "#ffff00\n",
      "#008000\n",
      "#FF0000\n",
      "#ffff00\n",
      "#008000\n",
      "#FF0000\n",
      "#ffff00\n",
      "#008000\n",
      "#FF0000\n",
      "#ffff00\n",
      "#008000\n"
     ]
    }
   ],
   "source": [
    "\n",
    "Semaforo = Vermelho\n",
    "\n",
    "for x in range (12): #limitador pra não ficar infinito\n",
    "    print(Semaforo.verCor())\n",
    "    Semaforo = Semaforo.verProximaCor()\n",
    "    time.sleep(5)"
   ]
  }
 ],
 "metadata": {
  "kernelspec": {
   "display_name": "Python 3",
   "language": "python",
   "name": "python3"
  },
  "language_info": {
   "codemirror_mode": {
    "name": "ipython",
    "version": 3
   },
   "file_extension": ".py",
   "mimetype": "text/x-python",
   "name": "python",
   "nbconvert_exporter": "python",
   "pygments_lexer": "ipython3",
   "version": "3.10.13"
  }
 },
 "nbformat": 4,
 "nbformat_minor": 2
}
