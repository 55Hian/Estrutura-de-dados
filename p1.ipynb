{
 "cells": [
  {
   "cell_type": "code",
   "execution_count": 197,
   "metadata": {},
   "outputs": [],
   "source": [
    "class recepcao:\n",
    "    \n",
    "    def __init__(self, capacidade):\n",
    "        self.__bdPessoa = {} # Armazena cliente da clinica.\n",
    "        self.__senhaSistema = '0000' #Senha que cadastra novos clientes.\n",
    "        self.__capacidadeEspera = capacidade #define a capacidade maxima de atendimento da clinica\n",
    "        self.__quantidadePacientesAtual = -1 #indice de controle para controle da fila\n",
    "        self.__filaRecepcao = [None] * self.__capacidadeEspera # recebe os clientes que foram aceitos na recepção\n",
    "        self.__filaTriagem = [] # recebe os clientes que serão enviados para triagem\n",
    "\n",
    "    def admin_AdicionarPessoa(self, documento, nome, senha): \n",
    "        \"\"\"\n",
    "        Cadastra novas pessoas na array bdPessoa, solicita uma senha de validação para o processo.\n",
    "        O processo só continua se a senha digitada estiver de acordo com a senha definida.\n",
    "\n",
    "        Parameters:\n",
    "        Documento(int) - documento da pessoa\n",
    "        nome(String) - Nome da pessoa\n",
    "        senha(String) - Senha de sistema para cadastar pessoas\n",
    "\n",
    "        retorno: True se o cadastro for bem sucedido, false se não for possivel cadastrar o cliente.\n",
    "        \"\"\"\n",
    "        if (senha == self.__senhaSistema):\n",
    "            self.__documento = documento\n",
    "            self.__nome = nome  \n",
    "            self.__bdPessoa[self.__documento] = self.__nome \n",
    "            return True\n",
    "        else:\n",
    "            return False\n",
    "\n",
    "    def verificarDocumento(self, documento): \n",
    "        \"\"\"\n",
    "        Valida se o documento inserido existe no sistema.\n",
    "\n",
    "        Parameters:\n",
    "        Documento(int) - documento da pessoa\n",
    "\n",
    "        retorno: true se existe na array de pessoas cadastradas, false se não existir.\n",
    "        \"\"\"\n",
    "        self.__pessoa = self.__bdPessoa.get(documento)\n",
    "        documentoExiste = True if self.__pessoa else False #Operador ternario (se houver valor em \"__pessoa\", retornara true, caso contrario, retornara false)\n",
    "        return documentoExiste\n",
    "        \n",
    "    def adicionarNaFila(self, documento):\n",
    "        \"\"\"\n",
    "        Adiciona pessoa a fila de triagem.\n",
    "        \n",
    "        Parameters:\n",
    "        Documento(int) - documento da pessoa\n",
    "\n",
    "        retorno: true se pessoa foi adicionada a fila de triagem, false se a pessoa não foi adicionada a fila de triagem\n",
    "        \"\"\"\n",
    "        validarDocumento = self.verificarDocumento(documento)\n",
    "\n",
    "        if (validarDocumento == True) and (self.__capacidadeEspera - 1 > self.__quantidadePacientesAtual) :\n",
    "            self.__quantidadePacientesAtual += 1\n",
    "            self.__filaRecepcao[self.__quantidadePacientesAtual] = self.__pessoa\n",
    "            return True\n",
    "        else:\n",
    "            return False\n",
    "    \n",
    "    def verificarFila(self, nome = None):\n",
    "        \"\"\"\n",
    "        Verifica uma posição da fila ou toda a fila da recepção.\n",
    "\n",
    "        Parameters: \n",
    "        nome(String) - nome da pessoa\n",
    "\n",
    "        retorno: Se não realizar passagem de parametro, retorna a fila inteira da recepção, se passar parametro, retorna \n",
    "        posição do paciente na fila, se não encontrar paciente na fila, retorna que o paciente não foi localizado.\n",
    "        \"\"\"           \n",
    "        if (nome == None):\n",
    "            return f'As pessoas na fila são: {self.__filaRecepcao}, A quantidade de vagas em aberto da clinica é {self.__capacidadeEspera-1 - self.__quantidadePacientesAtual}'\n",
    "        \n",
    "    def enviarParaTriagem(self):\n",
    "        \"\"\"\n",
    "        Não retorna valores.\n",
    "\n",
    "        Envia os nomes para a array de triagem e limpa a fila da recepção\n",
    "\n",
    "        retorno: Array com nomes para triagem\n",
    "        \"\"\"\n",
    "        for registro in range(self.__quantidadePacientesAtual + 1):\n",
    "            self.__filaTriagem.append(self.__filaRecepcao[0])\n",
    "        \n",
    "            for i in range(0, self.__quantidadePacientesAtual):\n",
    "                self.__filaRecepcao[i] = self.__filaRecepcao[i+1]\n",
    "\n",
    "            self.__quantidadePacientesAtual -= 1\n",
    "        \n",
    "        return self.__filaTriagem\n",
    "\n",
    "    def gerarLogRecepção(self):\n",
    "        \"\"\"\n",
    "        Não retorna valores\n",
    "\n",
    "        Gera um arquivo txt de log das pessoas registradas na recepção.\n",
    "        \"\"\"\n",
    "        with open('FilaRecepcao.txt', 'w') as fila:\n",
    "            for log in self.__filaTriagem:\n",
    "                # if log != None:\n",
    "                fila.write(f'{log} \\n')\n",
    "\n",
    "       \n",
    "\n"
   ]
  },
  {
   "cell_type": "markdown",
   "metadata": {},
   "source": [
    "### Cria recepção"
   ]
  },
  {
   "cell_type": "code",
   "execution_count": 198,
   "metadata": {},
   "outputs": [],
   "source": [
    "recepcaoClinica = recepcao(10)"
   ]
  },
  {
   "cell_type": "markdown",
   "metadata": {},
   "source": [
    "### Cadastrando clientes na clinica"
   ]
  },
  {
   "cell_type": "code",
   "execution_count": 199,
   "metadata": {},
   "outputs": [
    {
     "data": {
      "text/plain": [
       "True"
      ]
     },
     "execution_count": 199,
     "metadata": {},
     "output_type": "execute_result"
    }
   ],
   "source": [
    "recepcaoClinica.admin_AdicionarPessoa('00001', 'admin', '0000')\n",
    "recepcaoClinica.admin_AdicionarPessoa('00002', 'Hian', '0000')\n",
    "recepcaoClinica.admin_AdicionarPessoa('00003', 'Erika', '0000')\n",
    "recepcaoClinica.admin_AdicionarPessoa('00004', 'Jorge', '0000')"
   ]
  },
  {
   "cell_type": "markdown",
   "metadata": {},
   "source": [
    "### Verifica se o usuario esta cadastrado no array de usuarios cadastrados da clinica"
   ]
  },
  {
   "cell_type": "code",
   "execution_count": 200,
   "metadata": {},
   "outputs": [
    {
     "name": "stdout",
     "output_type": "stream",
     "text": [
      "False\n",
      "True\n",
      "True\n",
      "True\n"
     ]
    }
   ],
   "source": [
    "print(recepcaoClinica.verificarDocumento('00000'))\n",
    "print(recepcaoClinica.verificarDocumento('00001'))\n",
    "print(recepcaoClinica.verificarDocumento('00002'))\n",
    "print(recepcaoClinica.verificarDocumento('00003'))"
   ]
  },
  {
   "cell_type": "markdown",
   "metadata": {},
   "source": [
    "### Adiciona paciente a fila da recepção."
   ]
  },
  {
   "cell_type": "code",
   "execution_count": 201,
   "metadata": {},
   "outputs": [
    {
     "name": "stdout",
     "output_type": "stream",
     "text": [
      "False\n",
      "True\n",
      "True\n",
      "True\n",
      "True\n"
     ]
    }
   ],
   "source": [
    "print(recepcaoClinica.adicionarNaFila('00000'))\n",
    "print(recepcaoClinica.adicionarNaFila('00001'))\n",
    "print(recepcaoClinica.adicionarNaFila('00002'))\n",
    "print(recepcaoClinica.adicionarNaFila('00003'))\n",
    "print(recepcaoClinica.adicionarNaFila('00004'))"
   ]
  },
  {
   "cell_type": "markdown",
   "metadata": {},
   "source": [
    "### Verifica toda a fila de pacientes"
   ]
  },
  {
   "cell_type": "code",
   "execution_count": 202,
   "metadata": {},
   "outputs": [
    {
     "name": "stdout",
     "output_type": "stream",
     "text": [
      "As pessoas na fila são: ['admin', 'Hian', 'Erika', 'Jorge', None, None, None, None, None, None], A quantidade de vagas em aberto da clinica é 6\n"
     ]
    }
   ],
   "source": [
    "print(recepcaoClinica.verificarFila())"
   ]
  },
  {
   "cell_type": "markdown",
   "metadata": {},
   "source": [
    "### Envia fila da recepção para triagem"
   ]
  },
  {
   "cell_type": "code",
   "execution_count": 203,
   "metadata": {},
   "outputs": [
    {
     "data": {
      "text/plain": [
       "['admin', 'Hian', 'Erika', 'Jorge']"
      ]
     },
     "execution_count": 203,
     "metadata": {},
     "output_type": "execute_result"
    }
   ],
   "source": [
    "recepcaoClinica.enviarParaTriagem()"
   ]
  },
  {
   "cell_type": "markdown",
   "metadata": {},
   "source": [
    "### Gera log dos pacientes cadastrados na recepção"
   ]
  },
  {
   "cell_type": "code",
   "execution_count": 204,
   "metadata": {},
   "outputs": [],
   "source": [
    "recepcaoClinica.gerarLogRecepção()"
   ]
  },
  {
   "cell_type": "markdown",
   "metadata": {},
   "source": [
    "## Triagem"
   ]
  },
  {
   "cell_type": "code",
   "execution_count": 205,
   "metadata": {},
   "outputs": [],
   "source": [
    "import heapq\n",
    "\n",
    "class classeTriagem:\n",
    "    \n",
    "    def __init__(self, arrayTriagem):\n",
    "        self.triagem = arrayTriagem\n",
    "        self.listaPrioridade = []\n",
    "        self.triagemOrdenaPrioridade = []\n",
    "        self.filaOT = []\n",
    "        self.filaConsultorio = []\n",
    "\n",
    "    def definirPrioridade(self):\n",
    "        \"\"\"\n",
    "        recebe e armazena prioridade dos pacientes\n",
    "\n",
    "        Retorno: array com priridades\n",
    "        \"\"\"\n",
    "        for pessoa in self.triagem:\n",
    "            self.prioridade = int(input(f'Qual é a prioridade da pessoa {pessoa}'))\n",
    "            self.listaPrioridade.append(self.prioridade)\n",
    "      \n",
    "        return f'Pacientes {self.triagem} Prioridades {self.listaPrioridade}'\n",
    "    \n",
    "    def realizarTriagem(self):\n",
    "        \"\"\"\n",
    "        Realiza a ordenação por prioridade dos pacientes\n",
    "\n",
    "        Retorno: array com os pacientes e prioridade ordenados\n",
    "        \"\"\"      \n",
    "        for y in range(len(self.triagem)):\n",
    "            heapq.heappush(self.triagemOrdenaPrioridade, (self.listaPrioridade[y], self.triagem[y]))\n",
    "\n",
    "        return self.triagemOrdenaPrioridade\n",
    "    \n",
    "   \n",
    "    def enviarParaConsultório(self):\n",
    "        \"\"\"\n",
    "        Envia os nomes para a array do consultório e limpa a fila da triagem\n",
    "\n",
    "        retorno: Array com nomes para consulta (ordenados)\n",
    "        \"\"\"\n",
    "\n",
    "        for x in self.triagemOrdenaPrioridade:\n",
    "            self.filaOT.append(x[1])    \n",
    "\n",
    "        for registro in range(len(self.filaOT)):\n",
    "            self.filaConsultorio.append(self.filaOT[0])\n",
    "            for i in range(0, len(self.filaOT)-1):\n",
    "                self.filaOT[i] = self.filaOT[i+1]\n",
    "\n",
    "        self.listaPrioridade = []\n",
    "        self.triagemOrdenaPrioridade = []\n",
    "\n",
    "        return True\n",
    "    \n",
    "    def visualizar(self):\n",
    "        \"\"\"\n",
    "        Apresenta a fila para consultório\n",
    "\n",
    "        retorna a vila do consultório\n",
    "        \"\"\"\n",
    "        return self.filaConsultorio\n",
    "        \n",
    "\n",
    "    def gerarLogTriagem(self):\n",
    "        \"\"\"\n",
    "        Não retorna valores\n",
    "\n",
    "        Gera um arquivo txt de log das pessoas que passaram pela triagem.\n",
    "        \"\"\"\n",
    "        \n",
    "        with open('FilaTriagem.txt', 'w') as fila:\n",
    "            for x in self.filaConsultorio:\n",
    "                    fila.write(f'{x} \\n')\n",
    "\n",
    "\n"
   ]
  },
  {
   "cell_type": "code",
   "execution_count": 206,
   "metadata": {},
   "outputs": [],
   "source": [
    "triagemClinica = classeTriagem(recepcaoClinica.enviarParaTriagem())"
   ]
  },
  {
   "cell_type": "code",
   "execution_count": 207,
   "metadata": {},
   "outputs": [
    {
     "data": {
      "text/plain": [
       "\"Pacientes ['admin', 'Hian', 'Erika', 'Jorge'] Prioridades [8, 5, 3, 2]\""
      ]
     },
     "execution_count": 207,
     "metadata": {},
     "output_type": "execute_result"
    }
   ],
   "source": [
    "triagemClinica.definirPrioridade()"
   ]
  },
  {
   "cell_type": "code",
   "execution_count": 208,
   "metadata": {},
   "outputs": [
    {
     "data": {
      "text/plain": [
       "[(2, 'Jorge'), (3, 'Erika'), (5, 'Hian'), (8, 'admin')]"
      ]
     },
     "execution_count": 208,
     "metadata": {},
     "output_type": "execute_result"
    }
   ],
   "source": [
    "triagemClinica.realizarTriagem()"
   ]
  },
  {
   "cell_type": "code",
   "execution_count": 209,
   "metadata": {},
   "outputs": [
    {
     "data": {
      "text/plain": [
       "True"
      ]
     },
     "execution_count": 209,
     "metadata": {},
     "output_type": "execute_result"
    }
   ],
   "source": [
    "triagemClinica.enviarParaConsultório()"
   ]
  },
  {
   "cell_type": "code",
   "execution_count": 210,
   "metadata": {},
   "outputs": [
    {
     "data": {
      "text/plain": [
       "['Jorge', 'Erika', 'Hian', 'admin']"
      ]
     },
     "execution_count": 210,
     "metadata": {},
     "output_type": "execute_result"
    }
   ],
   "source": [
    "triagemClinica.visualizar()"
   ]
  },
  {
   "cell_type": "code",
   "execution_count": 211,
   "metadata": {},
   "outputs": [],
   "source": [
    "triagemClinica.gerarLogTriagem()"
   ]
  },
  {
   "cell_type": "markdown",
   "metadata": {},
   "source": [
    "## Sala de consulta"
   ]
  },
  {
   "cell_type": "code",
   "execution_count": 212,
   "metadata": {},
   "outputs": [],
   "source": [
    "import numpy as np\n",
    "\n",
    "class salaDeConsulta:\n",
    "\n",
    "    def __init__(self, filaConsultorio):\n",
    "        self.filaEspera = filaConsultorio\n",
    "  \n",
    "    def reservarsala(self):\n",
    "        \"\"\"\n",
    "        instancia os parametros da sala, que é lida como uma pilha\n",
    "\n",
    "        não recebe parametros\n",
    "\n",
    "        retorna true.\n",
    "        \"\"\"\n",
    "        self.__capacidade = 2\n",
    "        self.__topo = -1\n",
    "        self.__valores = np.empty(self.__capacidade, dtype=str)\n",
    "        print('Sala reservada com sucesso')\n",
    "\n",
    "        return True\n",
    "    \n",
    "    def sala_cheia(self):\n",
    "        \"\"\"\n",
    "        Verifica se a sala está com sua capacidade maxima\n",
    "\n",
    "        retorno: true se a sala está cheia, false caso não esteja cheia\n",
    "        \"\"\"\n",
    "        if self.__topo == self.__capacidade - 1:\n",
    "            return True\n",
    "        else:\n",
    "            return False\n",
    "        \n",
    "    def sala_vazia(self):\n",
    "        \"\"\"\n",
    "        Verifica se a sala está vazia\n",
    "\n",
    "        retorno: true se a sala está vazia, false caso não esteja vazia\n",
    "        \"\"\"\n",
    "        if self.__topo == -1:\n",
    "            return True\n",
    "        else:\n",
    "            return False\n",
    "\n",
    "    def entrarSala(self, valor):\n",
    "        \"\"\"\n",
    "        Provisiona a entrada do primeiro individuo na sala, preferencialmente que seja o médico.\n",
    "\n",
    "        retorno: true se a entrada foi bem sucedida, false caso não obtenha sucesso em entrar na sala.\n",
    "        \"\"\"     \n",
    "        if self.sala_cheia():\n",
    "            print('A sala está cheia')\n",
    "            return False\n",
    "        else:\n",
    "            self.__topo += 1\n",
    "            self.__valores[self.__topo] = valor\n",
    "            return True\n",
    "\n",
    "    def sairPaciente(self):\n",
    "        \"\"\"\n",
    "        Provisiona a saida do paciente da sala\n",
    "\n",
    "        retorno: true se a saida da sala foi bem sucedida, false caso contrario.\n",
    "        \"\"\"\n",
    "        if self.__topo == 0:\n",
    "            print('Não temos pacientes, o médico está sozinho na sala')\n",
    "            return False \n",
    "        elif self.sala_vazia():\n",
    "            print('A sala está vazia')\n",
    "            return False\n",
    "        else:\n",
    "            self.__topo -= 1\n",
    "            print(f'O paciente {self.filaEspera[0]} saiu da consulta')\n",
    "            self.filaEspera.pop(0)\n",
    "            return True\n",
    "\n",
    "    def entrarPaciente(self):\n",
    "        \"\"\"\n",
    "        Provisiona a entrada do paciente da sala\n",
    "\n",
    "        retorno: true se a entrada na sala foi bem sucedida, false caso contrario.\n",
    "        \"\"\"\n",
    "        if len(self.filaEspera) == 0 :\n",
    "            print('Não existem pacientes na fila de espera')\n",
    "            return False\n",
    "        elif self.sala_cheia():\n",
    "            print('A sala está cheia')\n",
    "            return False\n",
    "        else:\n",
    "            self.__topo += 1\n",
    "            self.__valores[self.__topo] = self.filaEspera[0]\n",
    "            print(f'O paciente {self.filaEspera[0]} entrou na consulta')\n",
    "            return True\n",
    "\n",
    "    def verListaPacientes(self):\n",
    "        \"\"\"\n",
    "        Apresenta a fila de espera de atendimento\n",
    "\n",
    "        retorno: array com pessoas que estão na fila\n",
    "        \"\"\"\n",
    "        return self.filaEspera\n",
    "\n",
    "\n"
   ]
  },
  {
   "cell_type": "code",
   "execution_count": 213,
   "metadata": {},
   "outputs": [],
   "source": [
    "consultorio = salaDeConsulta(triagemClinica.visualizar())"
   ]
  },
  {
   "cell_type": "code",
   "execution_count": 214,
   "metadata": {},
   "outputs": [
    {
     "name": "stdout",
     "output_type": "stream",
     "text": [
      "Sala reservada com sucesso\n"
     ]
    },
    {
     "data": {
      "text/plain": [
       "True"
      ]
     },
     "execution_count": 214,
     "metadata": {},
     "output_type": "execute_result"
    }
   ],
   "source": [
    "consultorio.reservarsala()"
   ]
  },
  {
   "cell_type": "code",
   "execution_count": 215,
   "metadata": {},
   "outputs": [
    {
     "data": {
      "text/plain": [
       "True"
      ]
     },
     "execution_count": 215,
     "metadata": {},
     "output_type": "execute_result"
    }
   ],
   "source": [
    "consultorio.entrarSala('medico')"
   ]
  },
  {
   "cell_type": "code",
   "execution_count": 216,
   "metadata": {},
   "outputs": [
    {
     "data": {
      "text/plain": [
       "['Jorge', 'Erika', 'Hian', 'admin']"
      ]
     },
     "execution_count": 216,
     "metadata": {},
     "output_type": "execute_result"
    }
   ],
   "source": [
    "consultorio.verListaPacientes()"
   ]
  },
  {
   "cell_type": "code",
   "execution_count": 236,
   "metadata": {},
   "outputs": [
    {
     "name": "stdout",
     "output_type": "stream",
     "text": [
      "Não existem pacientes na fila de espera\n"
     ]
    },
    {
     "data": {
      "text/plain": [
       "False"
      ]
     },
     "execution_count": 236,
     "metadata": {},
     "output_type": "execute_result"
    }
   ],
   "source": [
    "consultorio.entrarPaciente()"
   ]
  },
  {
   "cell_type": "code",
   "execution_count": 237,
   "metadata": {},
   "outputs": [
    {
     "name": "stdout",
     "output_type": "stream",
     "text": [
      "Não temos pacientes, o médico está sozinho na sala\n"
     ]
    },
    {
     "data": {
      "text/plain": [
       "False"
      ]
     },
     "execution_count": 237,
     "metadata": {},
     "output_type": "execute_result"
    }
   ],
   "source": [
    "consultorio.sairPaciente()"
   ]
  },
  {
   "cell_type": "code",
   "execution_count": 238,
   "metadata": {},
   "outputs": [
    {
     "data": {
      "text/plain": [
       "[]"
      ]
     },
     "execution_count": 238,
     "metadata": {},
     "output_type": "execute_result"
    }
   ],
   "source": [
    "consultorio.verListaPacientes()"
   ]
  },
  {
   "cell_type": "markdown",
   "metadata": {},
   "source": [
    "## SEMAFORO"
   ]
  },
  {
   "cell_type": "code",
   "execution_count": 239,
   "metadata": {},
   "outputs": [],
   "source": [
    "class luzes():\n",
    "\n",
    "    def __init__(self):\n",
    "        self._valor = None \n",
    "        self._proxCor = None\n",
    "\n",
    "    def cor(self, valor):\n",
    "        \"\"\"\n",
    "        instancia uma cor para a luz de led\n",
    "\n",
    "        parametros: valor(String)\n",
    "\n",
    "        retorno: não retorna valores.\n",
    "        \"\"\"\n",
    "        self._valor = valor\n",
    "\n",
    "    def proximaCor(self, proxima):\n",
    "        \"\"\"\n",
    "        Define qual objeto(do tipo luzes) está ligado ao objeto atual\n",
    "\n",
    "        parametros: proxima(objeto da classe luzes())\n",
    "        \"\"\"\n",
    "        self._proxCor = proxima\n",
    "\n",
    "    def verCor(self):\n",
    "        \"\"\"\n",
    "        Apresenta a cor do objeto atual\n",
    "\n",
    "        não recebe parametros\n",
    "\n",
    "        retorno: cor do objeto atual\n",
    "        \"\"\"\n",
    "        return self._valor\n",
    "\n",
    "    def verProximaCor(self):\n",
    "        \"\"\"\n",
    "        Apresenta o proximo objeto do tipo luzes ligado ao objeto atual\n",
    "\n",
    "        não recebe parametros\n",
    "\n",
    "        retorno: objeto do tipo luzes() ligado ao objeto atual\n",
    "        \"\"\"\n",
    "        return self._proxCor\n"
   ]
  },
  {
   "cell_type": "code",
   "execution_count": 240,
   "metadata": {},
   "outputs": [],
   "source": [
    "import time\n",
    "\n",
    "Verde = luzes()\n",
    "Amarelo = luzes()\n",
    "Vermelho = luzes()\n",
    "\n",
    "Verde.cor('#008000')\n",
    "Amarelo.cor('#ffff00')\n",
    "Vermelho.cor('#FF0000')\n",
    "\n",
    "Vermelho.proximaCor(Amarelo)\n",
    "Amarelo.proximaCor(Verde)\n",
    "Verde.proximaCor(Vermelho)\n",
    "\n"
   ]
  },
  {
   "cell_type": "code",
   "execution_count": 241,
   "metadata": {},
   "outputs": [
    {
     "name": "stdout",
     "output_type": "stream",
     "text": [
      "#FF0000\n",
      "#ffff00\n",
      "#008000\n",
      "#FF0000\n",
      "#ffff00\n",
      "#008000\n",
      "#FF0000\n",
      "#ffff00\n",
      "#008000\n",
      "#FF0000\n",
      "#ffff00\n",
      "#008000\n"
     ]
    }
   ],
   "source": [
    "\n",
    "Semaforo = Vermelho\n",
    "\n",
    "for x in range (12): #limitador para 4 ciclos\n",
    "    print(Semaforo.verCor())\n",
    "    Semaforo = Semaforo.verProximaCor()\n",
    "    time.sleep(5)"
   ]
  }
 ],
 "metadata": {
  "kernelspec": {
   "display_name": "Python 3",
   "language": "python",
   "name": "python3"
  },
  "language_info": {
   "codemirror_mode": {
    "name": "ipython",
    "version": 3
   },
   "file_extension": ".py",
   "mimetype": "text/x-python",
   "name": "python",
   "nbconvert_exporter": "python",
   "pygments_lexer": "ipython3",
   "version": "3.10.13"
  }
 },
 "nbformat": 4,
 "nbformat_minor": 2
}
