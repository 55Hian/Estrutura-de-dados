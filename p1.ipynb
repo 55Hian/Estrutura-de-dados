{
 "cells": [
  {
   "cell_type": "markdown",
   "metadata": {},
   "source": [
    "class recepcao:\n",
    "    estrutura array --> chave\n",
    "    estrutura de fila \n",
    "\n",
    "\n",
    "class triagem:\n",
    "    estrutula de fila com prioridade\n",
    "\n",
    "\n",
    "class espera:\n",
    "    estrutura de fila <-- + codigo\n",
    "\n",
    "\n",
    "class consultorio:\n",
    "    estruta de pilha <-- status da sala (quantas pessoas (medico + paciente))\n",
    "\n",
    "    Estrutura de fila <-- atendimentos do dia"
   ]
  },
  {
   "cell_type": "code",
   "execution_count": 331,
   "metadata": {},
   "outputs": [],
   "source": [
    "class recepcao:\n",
    "    \n",
    "    def __init__(self):\n",
    "        self.__bdPessoa = {'00000':'admin','00001':'Hian', '00002':'Erika' }\n",
    "        self.__senhaSistema = 6972\n",
    "        self.__filaTriagem = []\n",
    "\n",
    "    def admin_AdicionarPessoa(self, documento, nome):\n",
    "        if (input('Digite a senha admin') == self.__senhaSistema):\n",
    "            self.__documento = documento\n",
    "            self.__nome = nome\n",
    "            self.__bdPessoa[self.__documento] = self.__nome\n",
    "        else:\n",
    "            print('Senha incorreta')\n",
    "\n",
    "    def verificarDocumento(self, documento):\n",
    "        self.__pessoa = self.__bdPessoa.get(documento)\n",
    "        if self.__pessoa:\n",
    "             self.__filaTriagem.append(self.__pessoa)\n",
    "             return (self.__pessoa)\n",
    "        else: \n",
    "            return False\n",
    "\n",
    "    def enviarParaTriagem(self):\n",
    "        with open('FilaRecepcao.txt', 'w') as fila:\n",
    "            for x in self.__filaTriagem:\n",
    "                fila.write(f'{x} \\n')\n",
    "\n",
    "    def verificarFila(self):\n",
    "        return self.__filaTriagem\n",
    "            \n",
    "\n"
   ]
  },
  {
   "cell_type": "markdown",
   "metadata": {},
   "source": [
    "### Cria recepção"
   ]
  },
  {
   "cell_type": "code",
   "execution_count": 332,
   "metadata": {},
   "outputs": [],
   "source": [
    "recepcaoHian = recepcao()"
   ]
  },
  {
   "cell_type": "markdown",
   "metadata": {},
   "source": [
    "### Verifica se o usuario pode ser atendido pela clinica, se sim, é adicionado a fila, se não, indica que não é atendido pela clinica"
   ]
  },
  {
   "cell_type": "code",
   "execution_count": 333,
   "metadata": {},
   "outputs": [
    {
     "name": "stdout",
     "output_type": "stream",
     "text": [
      "admin\n",
      "Hian\n",
      "Erika\n"
     ]
    }
   ],
   "source": [
    "print(recepcaoHian.verificarDocumento('00000'))\n",
    "print(recepcaoHian.verificarDocumento('00001'))\n",
    "print(recepcaoHian.verificarDocumento('00002'))"
   ]
  },
  {
   "cell_type": "markdown",
   "metadata": {},
   "source": [
    "### Verifica a fila atual"
   ]
  },
  {
   "cell_type": "code",
   "execution_count": 334,
   "metadata": {},
   "outputs": [
    {
     "name": "stdout",
     "output_type": "stream",
     "text": [
      "['admin', 'Hian', 'Erika']\n"
     ]
    }
   ],
   "source": [
    "print(recepcaoHian.verificarFila())"
   ]
  },
  {
   "cell_type": "markdown",
   "metadata": {},
   "source": [
    "Envia fila da recepção para triagem (por ordem de chegada)"
   ]
  },
  {
   "cell_type": "code",
   "execution_count": 335,
   "metadata": {},
   "outputs": [],
   "source": [
    "recepcaoHian.enviarParaTriagem()"
   ]
  },
  {
   "cell_type": "markdown",
   "metadata": {},
   "source": [
    "## Triagem"
   ]
  },
  {
   "cell_type": "code",
   "execution_count": 375,
   "metadata": {},
   "outputs": [],
   "source": [
    "import heapq\n",
    "\n",
    "class classeTriagem:\n",
    "    \n",
    "    def __init__(self):\n",
    "        self.triagem = []\n",
    "        self.listaPrioridade = []\n",
    "        self.triagemOrdenaPrioridade = []\n",
    "\n",
    "        with open('./FilaRecepcao.txt', 'r') as fila:\n",
    "            for linha in fila:\n",
    "                self.triagem.append(linha)\n",
    "                print(linha)\n",
    "\n",
    "    def definirPrioridade(self):\n",
    "        for pessoa in self.triagem:\n",
    "            self.prioridade = input(f'Qual é a prioridade da pessoa {pessoa}')\n",
    "            self.listaPrioridade.append(self.prioridade)\n",
    "      \n",
    "    def primeira_triagem(self):\n",
    "        for y in range(len(self.triagem)):\n",
    "            heapq.heappush(self.triagemOrdenaPrioridade, ( self.listaPrioridade[y], self.triagem[y] ))\n",
    "\n",
    "        with open('FilaTriagem.txt', 'w') as fila:\n",
    "            for x in self.triagemOrdenaPrioridade:\n",
    "                if x != '\\n':\n",
    "                    fila.write(f'{x[1]}')\n",
    "                    print('x= ', x[1])\n",
    "                else:\n",
    "                    print('ruido')\n",
    "    def visualizar(self):\n",
    "        for x in self.triagemOrdenaPrioridade:\n",
    "            print(x[1])\n"
   ]
  },
  {
   "cell_type": "code",
   "execution_count": 376,
   "metadata": {},
   "outputs": [
    {
     "name": "stdout",
     "output_type": "stream",
     "text": [
      "admin \n",
      "\n",
      "Hian \n",
      "\n",
      "Erika \n",
      "\n"
     ]
    }
   ],
   "source": [
    "triagemErika = classeTriagem()"
   ]
  },
  {
   "cell_type": "code",
   "execution_count": 377,
   "metadata": {},
   "outputs": [],
   "source": [
    "triagemErika.visualizar()"
   ]
  },
  {
   "cell_type": "code",
   "execution_count": 378,
   "metadata": {},
   "outputs": [],
   "source": [
    "triagemErika.definirPrioridade()"
   ]
  },
  {
   "cell_type": "code",
   "execution_count": 379,
   "metadata": {},
   "outputs": [],
   "source": [
    "triagemErika.visualizar()"
   ]
  },
  {
   "cell_type": "code",
   "execution_count": 380,
   "metadata": {},
   "outputs": [
    {
     "name": "stdout",
     "output_type": "stream",
     "text": [
      "x=  Hian \n",
      "\n",
      "x=  admin \n",
      "\n",
      "x=  Erika \n",
      "\n"
     ]
    }
   ],
   "source": [
    "triagemErika.primeira_triagem()"
   ]
  },
  {
   "cell_type": "code",
   "execution_count": 381,
   "metadata": {},
   "outputs": [
    {
     "name": "stdout",
     "output_type": "stream",
     "text": [
      "('2', 'Hian \\n')\n",
      "('9', 'admin \\n')\n",
      "('6', 'Erika \\n')\n"
     ]
    }
   ],
   "source": [
    "triagemErika.visualizar()"
   ]
  },
  {
   "cell_type": "markdown",
   "metadata": {},
   "source": [
    "## Fila de espera"
   ]
  },
  {
   "cell_type": "code",
   "execution_count": 382,
   "metadata": {},
   "outputs": [],
   "source": [
    "class filaDeEspera():\n",
    "    def __init__(self):\n",
    "        self.filaTriagem = []\n",
    "        self.listaFilaEspera = []\n",
    "\n",
    "        with open('./FilaTriagem.txt', 'r') as fila:\n",
    "            for linha in fila:\n",
    "                self.listaFilaEspera.append(linha)\n",
    "\n",
    "    def verFila(self):\n",
    "        for pessoa in self.listaFilaEspera:\n",
    "            print(pessoa)\n",
    "\n",
    "    def enviarParaConsultório(self):\n",
    "        with open('FilaEspera.txt', 'w') as fila:\n",
    "            for x in self.listaFilaEspera:\n",
    "                fila.write(f'{x}' )"
   ]
  },
  {
   "cell_type": "code",
   "execution_count": 383,
   "metadata": {},
   "outputs": [],
   "source": [
    "filaDeEsperaHian = filaDeEspera()"
   ]
  },
  {
   "cell_type": "code",
   "execution_count": 384,
   "metadata": {},
   "outputs": [
    {
     "name": "stdout",
     "output_type": "stream",
     "text": [
      "Hian \n",
      "\n",
      "admin \n",
      "\n",
      "Erika \n",
      "\n"
     ]
    }
   ],
   "source": [
    "filaDeEsperaHian.verFila()"
   ]
  },
  {
   "cell_type": "code",
   "execution_count": 385,
   "metadata": {},
   "outputs": [],
   "source": [
    "filaDeEsperaHian.enviarParaConsultório()"
   ]
  },
  {
   "cell_type": "markdown",
   "metadata": {},
   "source": [
    "## Sala de consulta"
   ]
  },
  {
   "cell_type": "code",
   "execution_count": 386,
   "metadata": {},
   "outputs": [],
   "source": [
    "import numpy as np\n",
    "\n",
    "class salaDeConsulta:\n",
    "\n",
    "    def __init__(self):\n",
    "        self.filaEspera = []\n",
    "\n",
    "        with open('./FilaEspera.txt', 'r') as fila:\n",
    "            for linha in fila:\n",
    "                self.filaEspera.append(linha)\n",
    "\n",
    "\n",
    "    def reservarsala(self):\n",
    "        self.__capacidade = 2\n",
    "        self.__topo = -1\n",
    "        self.__valores = np.empty(self.__capacidade, dtype=str)\n",
    "        print('Sala reservada com sucesso')\n",
    "    \n",
    "    def sala_cheia(self):\n",
    "        if self.__topo == self.__capacidade - 1:\n",
    "            return True\n",
    "        else:\n",
    "            return False\n",
    "        \n",
    "    def sala_vazia(self):\n",
    "        if self.__topo == -1:\n",
    "            return True\n",
    "        else:\n",
    "            return False\n",
    "\n",
    "    def entrarSala(self, valor):\n",
    "        if self.sala_cheia():\n",
    "            print('A sala está cheia')\n",
    "        else:\n",
    "            self.__topo += 1\n",
    "            self.__valores[self.__topo] = valor\n",
    "\n",
    "    def sairPaciente(self):\n",
    "        if self.sala_vazia():\n",
    "            print('A sala está vazia')\n",
    "        else:\n",
    "            self.__topo -= 1\n",
    "            print(f'O paciente {self.filaEspera[0]} saiu da consulta')\n",
    "            self.filaEspera.pop(0)\n",
    "\n",
    "    def entrarPaciente(self):\n",
    "        if self.sala_cheia():\n",
    "            print('A sala está cheia')\n",
    "        else:\n",
    "            self.__topo += 1\n",
    "            self.__valores[self.__topo] = self.filaEspera[0]\n",
    "            print(f'O paciente {self.filaEspera[0]} entrou na consulta')\n",
    "\n",
    "    def verListaPacientes(self):\n",
    "        print(self.filaEspera)\n",
    "\n",
    "\n"
   ]
  },
  {
   "cell_type": "code",
   "execution_count": 387,
   "metadata": {},
   "outputs": [],
   "source": [
    "consultorio = salaDeConsulta()"
   ]
  },
  {
   "cell_type": "code",
   "execution_count": 388,
   "metadata": {},
   "outputs": [
    {
     "name": "stdout",
     "output_type": "stream",
     "text": [
      "Sala reservada com sucesso\n"
     ]
    }
   ],
   "source": [
    "consultorio.reservarsala()"
   ]
  },
  {
   "cell_type": "code",
   "execution_count": 389,
   "metadata": {},
   "outputs": [],
   "source": [
    "consultorio.entrarSala('medico')"
   ]
  },
  {
   "cell_type": "code",
   "execution_count": 399,
   "metadata": {},
   "outputs": [
    {
     "ename": "IndexError",
     "evalue": "list index out of range",
     "output_type": "error",
     "traceback": [
      "\u001b[0;31m---------------------------------------------------------------------------\u001b[0m",
      "\u001b[0;31mIndexError\u001b[0m                                Traceback (most recent call last)",
      "Cell \u001b[0;32mIn[399], line 1\u001b[0m\n\u001b[0;32m----> 1\u001b[0m consultorio\u001b[39m.\u001b[39;49mentrarPaciente()\n",
      "Cell \u001b[0;32mIn[386], line 51\u001b[0m, in \u001b[0;36msalaDeConsulta.entrarPaciente\u001b[0;34m(self)\u001b[0m\n\u001b[1;32m     49\u001b[0m \u001b[39melse\u001b[39;00m:\n\u001b[1;32m     50\u001b[0m     \u001b[39mself\u001b[39m\u001b[39m.\u001b[39m__topo \u001b[39m+\u001b[39m\u001b[39m=\u001b[39m \u001b[39m1\u001b[39m\n\u001b[0;32m---> 51\u001b[0m     \u001b[39mself\u001b[39m\u001b[39m.\u001b[39m__valores[\u001b[39mself\u001b[39m\u001b[39m.\u001b[39m__topo] \u001b[39m=\u001b[39m \u001b[39mself\u001b[39;49m\u001b[39m.\u001b[39;49mfilaEspera[\u001b[39m0\u001b[39;49m]\n\u001b[1;32m     52\u001b[0m     \u001b[39mprint\u001b[39m(\u001b[39mf\u001b[39m\u001b[39m'\u001b[39m\u001b[39mO paciente \u001b[39m\u001b[39m{\u001b[39;00m\u001b[39mself\u001b[39m\u001b[39m.\u001b[39mfilaEspera[\u001b[39m0\u001b[39m]\u001b[39m}\u001b[39;00m\u001b[39m entrou na consulta\u001b[39m\u001b[39m'\u001b[39m)\n",
      "\u001b[0;31mIndexError\u001b[0m: list index out of range"
     ]
    }
   ],
   "source": [
    "consultorio.entrarPaciente()"
   ]
  },
  {
   "cell_type": "code",
   "execution_count": 400,
   "metadata": {},
   "outputs": [
    {
     "ename": "IndexError",
     "evalue": "list index out of range",
     "output_type": "error",
     "traceback": [
      "\u001b[0;31m---------------------------------------------------------------------------\u001b[0m",
      "\u001b[0;31mIndexError\u001b[0m                                Traceback (most recent call last)",
      "Cell \u001b[0;32mIn[400], line 1\u001b[0m\n\u001b[0;32m----> 1\u001b[0m consultorio\u001b[39m.\u001b[39;49msairPaciente()\n",
      "Cell \u001b[0;32mIn[386], line 43\u001b[0m, in \u001b[0;36msalaDeConsulta.sairPaciente\u001b[0;34m(self)\u001b[0m\n\u001b[1;32m     41\u001b[0m \u001b[39melse\u001b[39;00m:\n\u001b[1;32m     42\u001b[0m     \u001b[39mself\u001b[39m\u001b[39m.\u001b[39m__topo \u001b[39m-\u001b[39m\u001b[39m=\u001b[39m \u001b[39m1\u001b[39m\n\u001b[0;32m---> 43\u001b[0m     \u001b[39mprint\u001b[39m(\u001b[39mf\u001b[39m\u001b[39m'\u001b[39m\u001b[39mO paciente \u001b[39m\u001b[39m{\u001b[39;00m\u001b[39mself\u001b[39;49m\u001b[39m.\u001b[39;49mfilaEspera[\u001b[39m0\u001b[39;49m]\u001b[39m}\u001b[39;00m\u001b[39m saiu da consulta\u001b[39m\u001b[39m'\u001b[39m)\n\u001b[1;32m     44\u001b[0m     \u001b[39mself\u001b[39m\u001b[39m.\u001b[39mfilaEspera\u001b[39m.\u001b[39mpop(\u001b[39m0\u001b[39m)\n",
      "\u001b[0;31mIndexError\u001b[0m: list index out of range"
     ]
    }
   ],
   "source": [
    "consultorio.sairPaciente()"
   ]
  },
  {
   "cell_type": "code",
   "execution_count": 401,
   "metadata": {},
   "outputs": [
    {
     "name": "stdout",
     "output_type": "stream",
     "text": [
      "[]\n"
     ]
    }
   ],
   "source": [
    "consultorio.verListaPacientes()"
   ]
  }
 ],
 "metadata": {
  "kernelspec": {
   "display_name": "Python 3",
   "language": "python",
   "name": "python3"
  },
  "language_info": {
   "codemirror_mode": {
    "name": "ipython",
    "version": 3
   },
   "file_extension": ".py",
   "mimetype": "text/x-python",
   "name": "python",
   "nbconvert_exporter": "python",
   "pygments_lexer": "ipython3",
   "version": "3.10.13"
  }
 },
 "nbformat": 4,
 "nbformat_minor": 2
}
