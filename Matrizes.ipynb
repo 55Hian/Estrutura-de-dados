{
  "cells": [
    {
      "cell_type": "markdown",
      "metadata": {
        "colab_type": "text",
        "id": "view-in-github"
      },
      "source": [
        "<a href=\"https://colab.research.google.com/github/55Hian/Estrutura-de-dados/blob/main/Matrizes.ipynb\" target=\"_parent\"><img src=\"https://colab.research.google.com/assets/colab-badge.svg\" alt=\"Open In Colab\"/></a>"
      ]
    },
    {
      "cell_type": "markdown",
      "metadata": {
        "id": "--0h-g8oKeoy"
      },
      "source": [
        "# Matrizes"
      ]
    },
    {
      "cell_type": "code",
      "execution_count": null,
      "metadata": {
        "id": "Hy5AufWauB55"
      },
      "outputs": [],
      "source": [
        "import numpy as np"
      ]
    },
    {
      "cell_type": "code",
      "execution_count": null,
      "metadata": {
        "id": "0tlTplKduULh"
      },
      "outputs": [],
      "source": [
        "matriz = np.array([[2, 3, 1],\n",
        "                   [4, 5, 7]])"
      ]
    },
    {
      "cell_type": "code",
      "execution_count": null,
      "metadata": {
        "colab": {
          "base_uri": "https://localhost:8080/",
          "height": 50
        },
        "id": "flw1UoaCusHR",
        "outputId": "f83ec2ef-cfbd-4ab9-f078-db3c29739755"
      },
      "outputs": [
        {
          "data": {
            "text/plain": [
              "array([[2, 3, 1],\n",
              "       [4, 5, 7]])"
            ]
          },
          "execution_count": 3,
          "metadata": {
            "tags": []
          },
          "output_type": "execute_result"
        }
      ],
      "source": [
        "matriz"
      ]
    },
    {
      "cell_type": "code",
      "execution_count": null,
      "metadata": {
        "colab": {
          "base_uri": "https://localhost:8080/",
          "height": 34
        },
        "id": "U_c0vmbNuxj6",
        "outputId": "2024126f-ff8d-48a0-cb35-b89bb0b77602"
      },
      "outputs": [
        {
          "data": {
            "text/plain": [
              "(2, 3)"
            ]
          },
          "execution_count": 4,
          "metadata": {
            "tags": []
          },
          "output_type": "execute_result"
        }
      ],
      "source": [
        "matriz.shape"
      ]
    },
    {
      "cell_type": "code",
      "execution_count": null,
      "metadata": {
        "colab": {
          "base_uri": "https://localhost:8080/",
          "height": 34
        },
        "id": "vcWENdxDu2I5",
        "outputId": "574a689e-8fd1-424e-a558-d31e1ad78c98"
      },
      "outputs": [
        {
          "data": {
            "text/plain": [
              "array([2, 3, 1])"
            ]
          },
          "execution_count": 5,
          "metadata": {
            "tags": []
          },
          "output_type": "execute_result"
        }
      ],
      "source": [
        "matriz[0]"
      ]
    },
    {
      "cell_type": "code",
      "execution_count": null,
      "metadata": {
        "colab": {
          "base_uri": "https://localhost:8080/",
          "height": 34
        },
        "id": "Q3BWpEMGu4v3",
        "outputId": "532ed626-f88b-4708-97b6-9157fb64b289"
      },
      "outputs": [
        {
          "data": {
            "text/plain": [
              "array([4, 5, 7])"
            ]
          },
          "execution_count": 6,
          "metadata": {
            "tags": []
          },
          "output_type": "execute_result"
        }
      ],
      "source": [
        "matriz[1]"
      ]
    },
    {
      "cell_type": "code",
      "execution_count": null,
      "metadata": {
        "colab": {
          "base_uri": "https://localhost:8080/",
          "height": 34
        },
        "id": "KBdLd_uJu7wQ",
        "outputId": "5a5b16c7-365b-46a1-9cde-40c471ba0688"
      },
      "outputs": [
        {
          "data": {
            "text/plain": [
              "1"
            ]
          },
          "execution_count": 11,
          "metadata": {
            "tags": []
          },
          "output_type": "execute_result"
        }
      ],
      "source": [
        "matriz[0][2]"
      ]
    },
    {
      "cell_type": "code",
      "execution_count": null,
      "metadata": {
        "colab": {
          "base_uri": "https://localhost:8080/",
          "height": 34
        },
        "id": "sE7sbVu5vG8z",
        "outputId": "9a70c2e1-5a1d-459e-f213-2356eea7afcb"
      },
      "outputs": [
        {
          "data": {
            "text/plain": [
              "7"
            ]
          },
          "execution_count": 14,
          "metadata": {
            "tags": []
          },
          "output_type": "execute_result"
        }
      ],
      "source": [
        "matriz[1][2]"
      ]
    },
    {
      "cell_type": "code",
      "execution_count": null,
      "metadata": {
        "colab": {
          "base_uri": "https://localhost:8080/",
          "height": 34
        },
        "id": "ao_sGzOtvUKX",
        "outputId": "8ae793ff-53fe-411b-a37a-251d73501e52"
      },
      "outputs": [
        {
          "data": {
            "text/plain": [
              "(2, 3)"
            ]
          },
          "execution_count": 15,
          "metadata": {
            "tags": []
          },
          "output_type": "execute_result"
        }
      ],
      "source": [
        "matriz.shape"
      ]
    },
    {
      "cell_type": "code",
      "execution_count": null,
      "metadata": {
        "colab": {
          "base_uri": "https://localhost:8080/",
          "height": 151
        },
        "id": "OMlp09zavPiv",
        "outputId": "7c337d53-8bd8-496a-8332-438c09145f02"
      },
      "outputs": [
        {
          "name": "stdout",
          "output_type": "stream",
          "text": [
            "[2 3 1]\n",
            "2\n",
            "3\n",
            "1\n",
            "[4 5 7]\n",
            "4\n",
            "5\n",
            "7\n"
          ]
        }
      ],
      "source": [
        "for i in range(matriz.shape[0]):\n",
        "  print(matriz[i])\n",
        "  for j in range(matriz.shape[1]):\n",
        "    print(matriz[i][j])"
      ]
    },
    {
      "cell_type": "markdown",
      "metadata": {},
      "source": [
        "Lista: \n",
        "- Crie uma estrutura de repetição para fazer a leitura de 5 números inteiros\n",
        "- armazene dentro de uma lista. \n",
        "- Após a leitura, crie outra estrutura de repetição para somar todos os valores digitados"
      ]
    },
    {
      "cell_type": "code",
      "execution_count": 2,
      "metadata": {},
      "outputs": [
        {
          "name": "stdout",
          "output_type": "stream",
          "text": [
            "Os numeros digitados foram [1, 2, 3, 4, 5]\n",
            "A soma dos valores digitados é 15\n"
          ]
        }
      ],
      "source": [
        "numeros = []\n",
        "soma = 0\n",
        "\n",
        "for i in range(0,5):\n",
        "    entradaUsuario = int(input(f'Digite o {i+1}° valor'))\n",
        "    numeros.append(entradaUsuario)\n",
        "\n",
        "for j in numeros:\n",
        "    soma += j\n",
        "\n",
        "print(f'Os numeros digitados foram {numeros}')\n",
        "print(f'A soma dos valores digitados é {soma}')"
      ]
    },
    {
      "cell_type": "markdown",
      "metadata": {},
      "source": [
        "Dicionário: \n",
        "- Crie um dicionário para armazenar o nome e a nota de 3 alunos\n",
        "- fazendo a leitura dos valores por meio de uma estrutura de repetição. \n",
        "- Depois, crie uma nova estrutura de repetição para somar todas as notas e retornar a média"
      ]
    },
    {
      "cell_type": "code",
      "execution_count": 13,
      "metadata": {},
      "outputs": [
        {
          "name": "stdout",
          "output_type": "stream",
          "text": [
            "A nota de Hian foi 8\n",
            "A nota de Natalice foi 10\n",
            "A nota de Joao foi 7\n",
            "A média de todas as notas é 8.333333333333334\n"
          ]
        }
      ],
      "source": [
        "alunosNotas = {}\n",
        "somaNotas = 0\n",
        "\n",
        "for i in range(0, 3):\n",
        "    nomeAluno = str(input(f'Digite o nome do {i+1} aluno'))\n",
        "    notaAluno = int(input(f'Digite a nota do {nomeAluno}'))\n",
        "    alunosNotas[nomeAluno] = notaAluno\n",
        "\n",
        "for j, k in alunosNotas.items():\n",
        "        print(f'A nota de {j} foi {k}')\n",
        "\n",
        "for l in alunosNotas.values():\n",
        "    somaNotas += l\n",
        "\n",
        "print(f'A média de todas as notas é {somaNotas / 3}')"
      ]
    },
    {
      "attachments": {
        "image.png": {
          "image/png": "[encoded data removed]"
        }
      },
      "cell_type": "markdown",
      "metadata": {},
      "source": [
        "Matriz: Dada a matriz abaixo, construa uma estrutura de repetição para percorrer e somar todos os elementos da matriz\n",
        "\n",
        "![image.png](attachment:image.png)"
      ]
    },
    {
      "cell_type": "code",
      "execution_count": 15,
      "metadata": {},
      "outputs": [
        {
          "name": "stdout",
          "output_type": "stream",
          "text": [
            "17\n"
          ]
        }
      ],
      "source": [
        "import numpy as np\n",
        "\n",
        "soma = 0\n",
        "matriz = np.array([[3,4,1],[3,1,5]])\n",
        "\n",
        "for i in range(matriz.shape[0]):\n",
        "    for j in range(matriz.shape[1]):\n",
        "        soma += matriz[i][j]\n",
        "\n",
        "print(soma)"
      ]
    }
  ],
  "metadata": {
    "colab": {
      "include_colab_link": true,
      "provenance": []
    },
    "kernelspec": {
      "display_name": "Python 3",
      "name": "python3"
    },
    "language_info": {
      "codemirror_mode": {
        "name": "ipython",
        "version": 3
      },
      "file_extension": ".py",
      "mimetype": "text/x-python",
      "name": "python",
      "nbconvert_exporter": "python",
      "pygments_lexer": "ipython3",
      "version": "3.10.13"
    }
  },
  "nbformat": 4,
  "nbformat_minor": 0
}
