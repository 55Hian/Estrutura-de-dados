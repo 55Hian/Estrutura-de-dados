{
  "cells": [
    {
      "cell_type": "markdown",
      "metadata": {
        "colab_type": "text",
        "id": "view-in-github"
      },
      "source": [
        "<a href=\"https://colab.research.google.com/github/55Hian/Estrutura-de-dados/blob/main/Comparativo_vetores_ordenados_e_n%C3%A3o_ordenados.ipynb\" target=\"_parent\"><img src=\"https://colab.research.google.com/assets/colab-badge.svg\" alt=\"Open In Colab\"/></a>"
      ]
    },
    {
      "cell_type": "markdown",
      "metadata": {
        "id": "TINeWMScLH2p"
      },
      "source": [
        "# Vetor não ordenado"
      ]
    },
    {
      "cell_type": "code",
      "execution_count": null,
      "metadata": {
        "id": "n9gdn-6jLKIW"
      },
      "outputs": [],
      "source": [
        "import numpy as np\n",
        "\n",
        "class VetorNaoOrdenado:\n",
        "  def __init__(self, capacidade):\n",
        "    self.capacidade = capacidade\n",
        "    self.ultima_posicao = -1\n",
        "    self.valores = np.empty(self.capacidade, dtype=float)\n",
        "\n",
        "  def imprime(self):\n",
        "    if self.ultima_posicao == -1:\n",
        "      print('O vetor está vazio')\n",
        "    else:\n",
        "      for i in range(self.ultima_posicao + 1):\n",
        "        print(i, ' - ', self.valores[i])\n",
        "\n",
        "  def insere(self, valor):\n",
        "    if self.ultima_posicao == self.capacidade - 1:\n",
        "      print('Capacidade máxima atingida')\n",
        "    else:\n",
        "      self.ultima_posicao += 1\n",
        "      self.valores[self.ultima_posicao] = valor\n",
        "\n",
        "  def pesquisar(self, valor):\n",
        "    for i in range(self.ultima_posicao + 1):\n",
        "      if valor == self.valores[i]:\n",
        "        return i\n",
        "    return -1\n",
        "\n",
        "  def excluir(self, valor):\n",
        "    posicao = self.pesquisar(valor)\n",
        "    if posicao == -1:\n",
        "      return -1\n",
        "    else:\n",
        "      for i in range(posicao, self.ultima_posicao):\n",
        "        self.valores[i] = self.valores[i + 1]\n",
        "\n",
        "      self.ultima_posicao -= 1"
      ]
    },
    {
      "cell_type": "markdown",
      "metadata": {
        "id": "3L3hMZxPloS9"
      },
      "source": [
        "# Vetor ordenado"
      ]
    },
    {
      "cell_type": "code",
      "execution_count": null,
      "metadata": {
        "id": "EI9-ginDUr7z"
      },
      "outputs": [],
      "source": [
        "class VetorOrdenado:\n",
        "\n",
        "  def __init__(self, capacidade):\n",
        "    self.capacidade = capacidade\n",
        "    self.ultima_posicao = -1\n",
        "    self.valores = np.empty(self.capacidade, dtype=float)\n",
        "\n",
        "  def imprime(self):\n",
        "    if self.ultima_posicao == -1:\n",
        "      print('O vetor está vazio')\n",
        "    else:\n",
        "      for i in range(self.ultima_posicao + 1):\n",
        "        print(i, ' - ', self.valores[i])\n",
        "\n",
        "  def insere(self, valor):\n",
        "    if self.ultima_posicao == self.capacidade - 1:\n",
        "      print('Capacidade atingida')\n",
        "      return\n",
        "\n",
        "    posicao = 0\n",
        "    for i in range(self.ultima_posicao + 1):\n",
        "      posicao = i\n",
        "      if self.valores[i] > valor:\n",
        "        break\n",
        "      if i == self.ultima_posicao:\n",
        "        posicao = i + 1\n",
        "\n",
        "    x = self.ultima_posicao\n",
        "    while x >= posicao:\n",
        "      self.valores[x + 1] = self.valores[x]\n",
        "      x -= 1\n",
        "\n",
        "    self.valores[posicao] = valor\n",
        "    self.ultima_posicao += 1\n",
        "\n",
        "  def pesquisa_linear(self, valor):\n",
        "    for i in range(self.ultima_posicao + 1):\n",
        "      if self.valores[i] > valor:\n",
        "        return -1\n",
        "      if self.valores[i] == valor:\n",
        "        return i\n",
        "\n",
        "  def pesquisa_binaria(self, valor):\n",
        "    limite_inferior = 0\n",
        "    limite_superior = self.ultima_posicao\n",
        "\n",
        "    while True:\n",
        "      posicao_atual = int((limite_inferior + limite_superior) / 2)\n",
        "      if self.valores[posicao_atual] == valor:\n",
        "        return posicao_atual\n",
        "      elif limite_inferior > limite_superior:\n",
        "        return -1\n",
        "      else:\n",
        "        if self.valores[posicao_atual] < valor:\n",
        "          limite_inferior = posicao_atual + 1\n",
        "        else:\n",
        "          limite_superior = posicao_atual - 1;\n",
        "\n",
        "  def excluir(self, valor):\n",
        "    posicao = self.pesquisar(valor)\n",
        "    if posicao == -1:\n",
        "      return -1\n",
        "    else:\n",
        "      for i in range(posicao, self.ultima_posicao):\n",
        "        self.valores[i] = self.valores[i + 1]\n",
        "\n",
        "      self.ultima_posicao -= 1"
      ]
    },
    {
      "cell_type": "markdown",
      "metadata": {
        "id": "YC6ZWHEmLvIA"
      },
      "source": [
        "# Inserção"
      ]
    },
    {
      "cell_type": "code",
      "execution_count": null,
      "metadata": {
        "id": "vgSnk5WAdgw4"
      },
      "outputs": [],
      "source": [
        "import random"
      ]
    },
    {
      "cell_type": "code",
      "execution_count": null,
      "metadata": {
        "colab": {
          "base_uri": "https://localhost:8080/",
          "height": 55
        },
        "id": "6Pp2Jb7OdmGv",
        "outputId": "0f9e8ad5-bb43-43af-dc37-95b176d575e2"
      },
      "outputs": [
        {
          "data": {
            "text/plain": [
              "0.1111"
            ]
          },
          "execution_count": 11,
          "metadata": {
            "tags": []
          },
          "output_type": "execute_result"
        }
      ],
      "source": [
        "round(random.random(), 4)"
      ]
    },
    {
      "cell_type": "code",
      "execution_count": null,
      "metadata": {
        "id": "CbmIJ6i5du5-"
      },
      "outputs": [],
      "source": [
        "elementos = []\n",
        "for _ in range(10000):\n",
        "  elementos.append(round(random.random(), 4))"
      ]
    },
    {
      "cell_type": "code",
      "execution_count": null,
      "metadata": {
        "colab": {
          "base_uri": "https://localhost:8080/",
          "height": 55
        },
        "id": "eF2ZrpsQd4i-",
        "outputId": "0a526b2d-f15e-4ac1-81ef-c76cd2f6dad7"
      },
      "outputs": [
        {
          "data": {
            "text/plain": [
              "10000"
            ]
          },
          "execution_count": 13,
          "metadata": {
            "tags": []
          },
          "output_type": "execute_result"
        }
      ],
      "source": [
        "len(elementos)"
      ]
    },
    {
      "cell_type": "code",
      "execution_count": null,
      "metadata": {
        "colab": {
          "base_uri": "https://localhost:8080/",
          "height": 213
        },
        "id": "_6Qd7PRPd8C5",
        "outputId": "50f72806-778d-443c-a10b-44efebca41c0"
      },
      "outputs": [
        {
          "data": {
            "text/plain": [
              "[0.4291,\n",
              " 0.0136,\n",
              " 0.2902,\n",
              " 0.6386,\n",
              " 0.3337,\n",
              " 0.4796,\n",
              " 0.7453,\n",
              " 0.1146,\n",
              " 0.7294,\n",
              " 0.4603]"
            ]
          },
          "execution_count": 14,
          "metadata": {
            "tags": []
          },
          "output_type": "execute_result"
        }
      ],
      "source": [
        "elementos[0:10]"
      ]
    },
    {
      "cell_type": "code",
      "execution_count": null,
      "metadata": {
        "id": "FfuFWWmxeDj-"
      },
      "outputs": [],
      "source": [
        "def insere_nao_ordenado(lista):\n",
        "  vetor = VetorNaoOrdenado(len(lista))\n",
        "  for i in lista:\n",
        "    vetor.insere(i)\n",
        "  return vetor"
      ]
    },
    {
      "cell_type": "code",
      "execution_count": null,
      "metadata": {
        "colab": {
          "base_uri": "https://localhost:8080/",
          "height": 55
        },
        "id": "scEu1FQAeRcD",
        "outputId": "3568be6a-4da0-44f3-c479-aaa3d8b49dae"
      },
      "outputs": [
        {
          "name": "stdout",
          "output_type": "stream",
          "text": [
            "100 loops, best of 3: 3.82 ms per loop\n"
          ]
        }
      ],
      "source": [
        "%timeit insere_nao_ordenado(elementos)"
      ]
    },
    {
      "cell_type": "code",
      "execution_count": null,
      "metadata": {
        "id": "vWKgqLnqeW3K"
      },
      "outputs": [],
      "source": [
        "def insere_ordenado(lista):\n",
        "  vetor = VetorOrdenado(len(lista))\n",
        "  for i in lista:\n",
        "    vetor.insere(i)\n",
        "  return vetor"
      ]
    },
    {
      "cell_type": "code",
      "execution_count": null,
      "metadata": {
        "colab": {
          "base_uri": "https://localhost:8080/",
          "height": 55
        },
        "id": "SsjA4IKbefzs",
        "outputId": "3633e8ac-058e-4780-a792-17cfef82cfbf"
      },
      "outputs": [
        {
          "name": "stdout",
          "output_type": "stream",
          "text": [
            "1 loop, best of 3: 14.6 s per loop\n"
          ]
        }
      ],
      "source": [
        "%timeit insere_ordenado(elementos)"
      ]
    },
    {
      "cell_type": "markdown",
      "metadata": {
        "id": "vKqJkSgAPEL4"
      },
      "source": [
        "# Pesquisa"
      ]
    },
    {
      "cell_type": "code",
      "execution_count": null,
      "metadata": {
        "id": "_Yjp9RC5e7zA"
      },
      "outputs": [],
      "source": [
        "vetor_nao_ordenado = insere_nao_ordenado(elementos)"
      ]
    },
    {
      "cell_type": "code",
      "execution_count": null,
      "metadata": {
        "colab": {
          "base_uri": "https://localhost:8080/",
          "height": 55
        },
        "id": "OfigKYWofBGa",
        "outputId": "68fb9098-7ba8-4996-e3ed-f1d4e8a2e61d"
      },
      "outputs": [
        {
          "data": {
            "text/plain": [
              "10000"
            ]
          },
          "execution_count": 21,
          "metadata": {
            "tags": []
          },
          "output_type": "execute_result"
        }
      ],
      "source": [
        "len(vetor_nao_ordenado.valores)"
      ]
    },
    {
      "cell_type": "code",
      "execution_count": null,
      "metadata": {
        "colab": {
          "base_uri": "https://localhost:8080/",
          "height": 55
        },
        "id": "o3AD0bf6fMRl",
        "outputId": "1286e2cf-7d48-4b44-ab09-8af68d83f60c"
      },
      "outputs": [
        {
          "data": {
            "text/plain": [
              "10000"
            ]
          },
          "execution_count": 28,
          "metadata": {
            "tags": []
          },
          "output_type": "execute_result"
        }
      ],
      "source": [
        "vetor_ordenado = insere_ordenado(elementos)\n",
        "len(vetor_nao_ordenado.valores)"
      ]
    },
    {
      "cell_type": "code",
      "execution_count": null,
      "metadata": {
        "colab": {
          "base_uri": "https://localhost:8080/",
          "height": 55
        },
        "id": "O4y_BId3fdcd",
        "outputId": "08ae9276-5690-4e5b-93e9-058e58e2763f"
      },
      "outputs": [
        {
          "data": {
            "text/plain": [
              "10000"
            ]
          },
          "execution_count": 23,
          "metadata": {
            "tags": []
          },
          "output_type": "execute_result"
        }
      ],
      "source": [
        "pesquisa = []\n",
        "for _ in range(10000):\n",
        "  pesquisa.append(round(random.random(), 4))\n",
        "len(pesquisa)"
      ]
    },
    {
      "cell_type": "code",
      "execution_count": null,
      "metadata": {
        "id": "_nSU0a6PfxJy"
      },
      "outputs": [],
      "source": [
        "def pesquisa_nao_ordenado(lista):\n",
        "  for i in lista:\n",
        "    vetor_nao_ordenado.pesquisar(i)"
      ]
    },
    {
      "cell_type": "code",
      "execution_count": null,
      "metadata": {
        "colab": {
          "base_uri": "https://localhost:8080/",
          "height": 55
        },
        "id": "5o2S0aM8f3yg",
        "outputId": "ff9e3e11-b9ea-491a-c89f-e55a858fad27"
      },
      "outputs": [
        {
          "name": "stdout",
          "output_type": "stream",
          "text": [
            "1 loop, best of 3: 15.4 s per loop\n"
          ]
        }
      ],
      "source": [
        "%timeit pesquisa_nao_ordenado(pesquisa)"
      ]
    },
    {
      "cell_type": "code",
      "execution_count": null,
      "metadata": {
        "id": "a1jMTkDpgrvs"
      },
      "outputs": [],
      "source": [
        "def pesquisa_ordenado_binaria(lista):\n",
        "  for i in lista:\n",
        "    vetor_ordenado.pesquisa_binaria(i)"
      ]
    },
    {
      "cell_type": "code",
      "execution_count": null,
      "metadata": {
        "colab": {
          "base_uri": "https://localhost:8080/",
          "height": 55
        },
        "id": "9oc1kbKpgyOq",
        "outputId": "001c910e-b7b9-4f22-833c-17a91b345f99"
      },
      "outputs": [
        {
          "name": "stdout",
          "output_type": "stream",
          "text": [
            "10 loops, best of 3: 97 ms per loop\n"
          ]
        }
      ],
      "source": [
        "%timeit pesquisa_ordenado_binaria(pesquisa)"
      ]
    }
  ],
  "metadata": {
    "colab": {
      "include_colab_link": true,
      "provenance": []
    },
    "kernelspec": {
      "display_name": "Python 3",
      "name": "python3"
    }
  },
  "nbformat": 4,
  "nbformat_minor": 0
}
