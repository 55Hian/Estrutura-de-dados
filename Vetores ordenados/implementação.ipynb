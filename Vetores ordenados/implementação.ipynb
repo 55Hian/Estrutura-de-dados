{
 "cells": [
  {
   "cell_type": "code",
   "execution_count": 1,
   "metadata": {},
   "outputs": [],
   "source": [
    "import numpy as np\n",
    "\n",
    "class vetorOrdenado:\n",
    "    def __init__(self, capacidade):\n",
    "        self.capacidade = capacidade\n",
    "        self.ultima_posição = -1\n",
    "        self.valores = np.empty(self.capacidade, dtype=int)\n",
    "\n",
    "    def imprime(self):\n",
    "        if self.ultima_posição == -1:\n",
    "            print('O vetor esta vazio')\n",
    "        \n",
    "        else:\n",
    "            for i in range(self.ultima_posição + 1):\n",
    "                print(i, '-', self.valores[i])\n",
    "\n",
    "    def insere(self, valor):\n",
    "        if self.ultima_posição == self.capacidade - 1:\n",
    "            print('Capacidade maxima atingida')\n",
    "            return\n",
    "        \n",
    "        posicao = 0\n",
    "        for i in range(self.ultima_posição + 1):\n",
    "            posicao = i\n",
    "            if self.valores[i] > valor:\n",
    "                break\n",
    "\n",
    "            if i == self.ultima_posição:\n",
    "                posicao = i + 1\n",
    "\n",
    "        x = self.ultima_posição\n",
    "        while x >= posicao:\n",
    "            self.valores[x+1] = self.valores[x]\n",
    "            x -= 1\n",
    " \n",
    "        self.valores[posicao] = valor\n",
    "        self.ultima_posição += 1\n"
   ]
  },
  {
   "cell_type": "code",
   "execution_count": 2,
   "metadata": {},
   "outputs": [
    {
     "name": "stdout",
     "output_type": "stream",
     "text": [
      "O vetor esta vazio\n"
     ]
    }
   ],
   "source": [
    "vetor = vetorOrdenado(10)\n",
    "vetor.imprime()"
   ]
  },
  {
   "cell_type": "code",
   "execution_count": 3,
   "metadata": {},
   "outputs": [
    {
     "name": "stdout",
     "output_type": "stream",
     "text": [
      "0 - 6\n"
     ]
    }
   ],
   "source": [
    "vetor.insere(6)\n",
    "vetor.imprime()"
   ]
  },
  {
   "cell_type": "code",
   "execution_count": 4,
   "metadata": {},
   "outputs": [
    {
     "name": "stdout",
     "output_type": "stream",
     "text": [
      "0 - 3\n",
      "1 - 4\n",
      "2 - 6\n",
      "3 - 7\n"
     ]
    }
   ],
   "source": [
    "vetor.insere(7)\n",
    "vetor.insere(4)\n",
    "vetor.insere(3)\n",
    "vetor.imprime()"
   ]
  },
  {
   "cell_type": "code",
   "execution_count": 6,
   "metadata": {},
   "outputs": [
    {
     "name": "stdout",
     "output_type": "stream",
     "text": [
      "0 - 3\n",
      "1 - 4\n",
      "2 - 6\n",
      "3 - 7\n",
      "4 - 9\n",
      "5 - 9\n"
     ]
    }
   ],
   "source": [
    "vetor.insere(9)\n",
    "vetor.imprime()"
   ]
  }
 ],
 "metadata": {
  "kernelspec": {
   "display_name": "Python 3",
   "language": "python",
   "name": "python3"
  },
  "language_info": {
   "codemirror_mode": {
    "name": "ipython",
    "version": 3
   },
   "file_extension": ".py",
   "mimetype": "text/x-python",
   "name": "python",
   "nbconvert_exporter": "python",
   "pygments_lexer": "ipython3",
   "version": "3.10.13"
  }
 },
 "nbformat": 4,
 "nbformat_minor": 2
}
