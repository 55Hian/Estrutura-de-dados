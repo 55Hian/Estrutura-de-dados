{
 "cells": [
  {
   "cell_type": "code",
   "execution_count": 1,
   "metadata": {},
   "outputs": [
    {
     "name": "stdout",
     "output_type": "stream",
     "text": [
      "0\n",
      "INP1070_\tassessoria_de_vendas_planejamento_comercial\n"
     ]
    }
   ],
   "source": [
    "import re\n",
    "\n",
    "opcoes = []\n",
    "opcoesLower = []\n",
    "saidas = []\n",
    "with open('./codigos.txt', 'r') as tex:\n",
    "  for linha in tex:\n",
    "    opcoes.append(linha)\n",
    "\n",
    "for x in range(len(opcoes)):\n",
    "  print(x)\n",
    "  opcoesLower.insert(x, \"INP1070_\" + opcoes[x].lower())\n",
    "  saidas.append(re.sub(' ', '_', opcoesLower[x]))\n",
    "\n",
    "with open('saida.txt', 'w') as texto:\n",
    "  for x in saidas:\n",
    "    texto.write(f'{x}' )\n",
    "    print(x)\n",
    "\n"
   ]
  }
 ],
 "metadata": {
  "kernelspec": {
   "display_name": "Python 3",
   "language": "python",
   "name": "python3"
  },
  "language_info": {
   "codemirror_mode": {
    "name": "ipython",
    "version": 3
   },
   "file_extension": ".py",
   "mimetype": "text/x-python",
   "name": "python",
   "nbconvert_exporter": "python",
   "pygments_lexer": "ipython3",
   "version": "3.10.13"
  }
 },
 "nbformat": 4,
 "nbformat_minor": 2
}
