{
 "cells": [
  {
   "cell_type": "code",
   "execution_count": 2,
   "metadata": {},
   "outputs": [],
   "source": [
    "import re\n",
    "\n",
    "opcoes = []\n",
    "opcoesLower = []\n",
    "saidas = []\n",
    "\n",
    "prefix = \"\"\n",
    "sufix = \"\"\n",
    "with open('./codigos.txt', 'r') as tex:\n",
    "  for linha in tex:\n",
    "    opcoes.append(linha)\n",
    "\n",
    "for x in range(len(opcoes)):\n",
    "  opcoesLower.insert(x, prefix + opcoes[x].lower() + sufix)\n",
    "  saidas.append(re.sub(' ', '_', opcoesLower[x]))\n",
    "            # and re.sub('ã', 'a', opcoesLower[x])\n",
    "            # and re.sub('á','a', opcoesLower[x])\n",
    "            # and re.sub('ç', 'c', opcoesLower[x])\n",
    "            # and re.sub('ó', 'o', opcoesLower[x])\n",
    "\n",
    "with open('saida.txt', 'w') as texto:\n",
    "  for x in saidas:\n",
    "    texto.write(f'{x}' )\n",
    "\n"
   ]
  }
 ],
 "metadata": {
  "kernelspec": {
   "display_name": "Python 3",
   "language": "python",
   "name": "python3"
  },
  "language_info": {
   "codemirror_mode": {
    "name": "ipython",
    "version": 3
   },
   "file_extension": ".py",
   "mimetype": "text/x-python",
   "name": "python",
   "nbconvert_exporter": "python",
   "pygments_lexer": "ipython3",
   "version": "3.10.13"
  }
 },
 "nbformat": 4,
 "nbformat_minor": 2
}
