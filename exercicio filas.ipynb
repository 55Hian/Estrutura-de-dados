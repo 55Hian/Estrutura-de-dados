{
 "cells": [
  {
   "cell_type": "markdown",
   "metadata": {},
   "source": [
    "### 1) Qual(is) a(s) diferença(s) entre uma pilha e uma fila? Dê um exemplo de cada uma das estruturas de dados aplicada a vida real. "
   ]
  },
  {
   "cell_type": "markdown",
   "metadata": {},
   "source": [
    "Uma pilha tem a caracteristica de permitir somente a visualização do ultimo item inserido nela, outra caracteristica importante é o fato da pilha remover sempre o ultimo a ser removido, basicamente, o ultimo valor a ser inserido é o primeiro valor a ser retirado.\n",
    "Em contramão temos a fila, onde sua principal caracteristica é o fato de que o primeiro item a entrar é o primeiro item a sair dela, logo, o ultimo item a entrar será o primeiro item a sair.\n",
    "\n",
    "aplicando exemplos da vida real temos, \n",
    "\n",
    "para pilhas: \n",
    "\n",
    "O envaze de batatas chips na embalagem de pringles, a primeira batata que foi armazenada, será a ultima batata a ser consumida.\n",
    "\n",
    "para filas:\n",
    "\n",
    "Sistemas de impressão que respeitam a ordem de chegada dos arquivos e imprimem de acordo com essa ordem, o primeiro arquivo que chega é o primeiro arquivo impresso.\n",
    "\n"
   ]
  },
  {
   "cell_type": "markdown",
   "metadata": {},
   "source": []
  },
  {
   "cell_type": "markdown",
   "metadata": {},
   "source": [
    "### O estudante devem implementar uma fila para simular o controle de clientes em uma fila de um caixa de supermercado. Ele devem utilizar uma classe que represente a fila e implementar operações como adição de clientes e atendimento no caixa.\n",
    "Instruções:\n",
    "1) Crie uma classe chamada FilaSupermercado para representar a fila do caixa de um supermercado.\n",
    "2) Implemente o método adicionar_clienteque adiciona um cliente ao final da fila.\n",
    "3) Implemente o método atender_clienteque remove e retorna o cliente do início da fila, simulando o atendimento no caixa.\n",
    "4) Implemente o método verificar_filaque exibe a quantidade de clientes na fila no momento.!"
   ]
  },
  {
   "cell_type": "code",
   "execution_count": null,
   "metadata": {},
   "outputs": [],
   "source": [
    "import numpy as np\n",
    "\n",
    "class FilaSuperMercado:\n",
    "\n",
    "    def __init__(self, capacidade):\n",
    "        self.capacidade = capacidade\n",
    "        self.ultima_posição = -1\n",
    "        self.valores = np.empty(self.capacidade, dtype=int)\n",
    "\n",
    "    def adicionar_cliente(self, valor):\n",
    "        if self.ultima_posição == self.capacidade - 1:\n",
    "            print('Capacidade maxima atingida')\n",
    "            return\n",
    "        else:\n",
    "            self.ultima_posicao += 1\n",
    "            self.valores[self.ultima_posicao] = valor\n",
    "\n",
    "\n",
    "        "
   ]
  }
 ],
 "metadata": {
  "kernelspec": {
   "display_name": "Python 3",
   "language": "python",
   "name": "python3"
  },
  "language_info": {
   "name": "python",
   "version": "3.10.13"
  }
 },
 "nbformat": 4,
 "nbformat_minor": 2
}
